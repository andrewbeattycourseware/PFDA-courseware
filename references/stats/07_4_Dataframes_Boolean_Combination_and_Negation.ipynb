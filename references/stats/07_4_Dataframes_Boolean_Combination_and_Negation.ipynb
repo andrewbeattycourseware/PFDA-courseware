{
 "cells": [
  {
   "cell_type": "markdown",
   "metadata": {
    "id": "wqJrOrCPUnBx"
   },
   "source": [
    "# Dataframes: Boolean Combinations and Negations\n"
   ]
  },
  {
   "cell_type": "code",
   "execution_count": 1,
   "metadata": {
    "colab": {
     "base_uri": "https://localhost:8080/"
    },
    "id": "SuwJP-fEYbMx",
    "outputId": "68f39b5a-9131-4b80-d3d2-b6ee3fbfca55"
   },
   "outputs": [
    {
     "name": "stdout",
     "output_type": "stream",
     "text": [
      "<class 'pandas.core.frame.DataFrame'>\n",
      "RangeIndex: 887 entries, 0 to 886\n",
      "Data columns (total 8 columns):\n",
      " #   Column                   Non-Null Count  Dtype  \n",
      "---  ------                   --------------  -----  \n",
      " 0   Survived                 887 non-null    int64  \n",
      " 1   Pclass                   887 non-null    int64  \n",
      " 2   Name                     887 non-null    object \n",
      " 3   Sex                      887 non-null    object \n",
      " 4   Age                      887 non-null    float64\n",
      " 5   Siblings/Spouses Aboard  887 non-null    int64  \n",
      " 6   Parents/Children Aboard  887 non-null    int64  \n",
      " 7   Fare                     887 non-null    float64\n",
      "dtypes: float64(2), int64(4), object(2)\n",
      "memory usage: 55.6+ KB\n"
     ]
    }
   ],
   "source": [
    "# imports\n",
    "import pandas as pd\n",
    "\n",
    "# retrieves data\n",
    "url_root = 'https://raw.githubusercontent.com/'\n",
    "url_repo = 'bsheese/CSDS125ExampleData/master/'\n",
    "url_file = 'data_titanic.csv'\n",
    "\n",
    "url = url_root + url_repo + url_file\n",
    "\n",
    "# creates dataframe\n",
    "df = pd.read_csv(url)\n",
    "df.info()"
   ]
  },
  {
   "cell_type": "markdown",
   "metadata": {
    "id": "Kww3qr8tzyia"
   },
   "source": [
    "## Combining Booleans  \n",
    "We can take the basic idea of a boolean mask and extend it to subset our dataframe in any way we like."
   ]
  },
  {
   "cell_type": "code",
   "execution_count": 2,
   "metadata": {
    "colab": {
     "base_uri": "https://localhost:8080/"
    },
    "id": "ffu9sDIu7Qb6",
    "outputId": "f6ad85b3-ae3e-43e1-dab1-8bb8cc840f73"
   },
   "outputs": [
    {
     "data": {
      "text/plain": [
       "0      False\n",
       "1      False\n",
       "2      False\n",
       "3      False\n",
       "4      False\n",
       "       ...  \n",
       "882    False\n",
       "883    False\n",
       "884    False\n",
       "885    False\n",
       "886    False\n",
       "Name: Age, Length: 887, dtype: bool"
      ]
     },
     "execution_count": 2,
     "metadata": {},
     "output_type": "execute_result"
    }
   ],
   "source": [
    "# a boolean mask\n",
    "df.loc[:, 'Age'] > 45"
   ]
  },
  {
   "cell_type": "code",
   "execution_count": 3,
   "metadata": {
    "colab": {
     "base_uri": "https://localhost:8080/",
     "height": 197
    },
    "id": "bY7WEnsf7fiw",
    "outputId": "562da318-ab8e-4f3a-e343-1d6613a92d64"
   },
   "outputs": [
    {
     "data": {
      "text/html": [
       "<div>\n",
       "<style scoped>\n",
       "    .dataframe tbody tr th:only-of-type {\n",
       "        vertical-align: middle;\n",
       "    }\n",
       "\n",
       "    .dataframe tbody tr th {\n",
       "        vertical-align: top;\n",
       "    }\n",
       "\n",
       "    .dataframe thead th {\n",
       "        text-align: right;\n",
       "    }\n",
       "</style>\n",
       "<table border=\"1\" class=\"dataframe\">\n",
       "  <thead>\n",
       "    <tr style=\"text-align: right;\">\n",
       "      <th></th>\n",
       "      <th>Survived</th>\n",
       "      <th>Pclass</th>\n",
       "      <th>Name</th>\n",
       "      <th>Sex</th>\n",
       "      <th>Age</th>\n",
       "      <th>Siblings/Spouses Aboard</th>\n",
       "      <th>Parents/Children Aboard</th>\n",
       "      <th>Fare</th>\n",
       "    </tr>\n",
       "  </thead>\n",
       "  <tbody>\n",
       "    <tr>\n",
       "      <th>6</th>\n",
       "      <td>0</td>\n",
       "      <td>1</td>\n",
       "      <td>Mr. Timothy J McCarthy</td>\n",
       "      <td>male</td>\n",
       "      <td>54.0</td>\n",
       "      <td>0</td>\n",
       "      <td>0</td>\n",
       "      <td>51.8625</td>\n",
       "    </tr>\n",
       "    <tr>\n",
       "      <th>11</th>\n",
       "      <td>1</td>\n",
       "      <td>1</td>\n",
       "      <td>Miss. Elizabeth Bonnell</td>\n",
       "      <td>female</td>\n",
       "      <td>58.0</td>\n",
       "      <td>0</td>\n",
       "      <td>0</td>\n",
       "      <td>26.5500</td>\n",
       "    </tr>\n",
       "    <tr>\n",
       "      <th>15</th>\n",
       "      <td>1</td>\n",
       "      <td>2</td>\n",
       "      <td>Mrs. (Mary D Kingcome) Hewlett</td>\n",
       "      <td>female</td>\n",
       "      <td>55.0</td>\n",
       "      <td>0</td>\n",
       "      <td>0</td>\n",
       "      <td>16.0000</td>\n",
       "    </tr>\n",
       "    <tr>\n",
       "      <th>31</th>\n",
       "      <td>1</td>\n",
       "      <td>1</td>\n",
       "      <td>Mrs. William Augustus (Marie Eugenie) Spencer</td>\n",
       "      <td>female</td>\n",
       "      <td>48.0</td>\n",
       "      <td>1</td>\n",
       "      <td>0</td>\n",
       "      <td>146.5208</td>\n",
       "    </tr>\n",
       "    <tr>\n",
       "      <th>33</th>\n",
       "      <td>0</td>\n",
       "      <td>2</td>\n",
       "      <td>Mr. Edward H Wheadon</td>\n",
       "      <td>male</td>\n",
       "      <td>66.0</td>\n",
       "      <td>0</td>\n",
       "      <td>0</td>\n",
       "      <td>10.5000</td>\n",
       "    </tr>\n",
       "  </tbody>\n",
       "</table>\n",
       "</div>"
      ],
      "text/plain": [
       "    Survived  Pclass                                           Name     Sex  \\\n",
       "6          0       1                         Mr. Timothy J McCarthy    male   \n",
       "11         1       1                        Miss. Elizabeth Bonnell  female   \n",
       "15         1       2                 Mrs. (Mary D Kingcome) Hewlett  female   \n",
       "31         1       1  Mrs. William Augustus (Marie Eugenie) Spencer  female   \n",
       "33         0       2                           Mr. Edward H Wheadon    male   \n",
       "\n",
       "     Age  Siblings/Spouses Aboard  Parents/Children Aboard      Fare  \n",
       "6   54.0                        0                        0   51.8625  \n",
       "11  58.0                        0                        0   26.5500  \n",
       "15  55.0                        0                        0   16.0000  \n",
       "31  48.0                        1                        0  146.5208  \n",
       "33  66.0                        0                        0   10.5000  "
      ]
     },
     "execution_count": 3,
     "metadata": {},
     "output_type": "execute_result"
    }
   ],
   "source": [
    "# using the mask to index the dataframe\n",
    "df.loc[df['Age'] > 45, :].head()"
   ]
  },
  {
   "cell_type": "markdown",
   "metadata": {
    "id": "nIYjU4Rw8cZO"
   },
   "source": [
    "We can also combine as many booleans as we like.\n",
    "For example, we can find any passenger that is both female and over 45 years of age by combining the two booleans. There is one complication, however. In Python, when we use `and` we are comparing the truth value of two statements, and returning 'True' if both are true.\n",
    "\n",
    "In Pandas, we are comparing the truth value of many pairs of values in a series. Each comparison evaluates to True or False. To combine multiple booleans, we are going to use the `&` operator instead of Python's `and`. \n",
    "\n",
    "Again, this is necessary because we are evaluating a series of boolean pairs, rather than just two singular objects. If you accidentally use `and` instead of `&` when combining boolean series in Pandas, you may get an error stating the 'truth value of a series is ambiguous'. "
   ]
  },
  {
   "cell_type": "markdown",
   "metadata": {
    "id": "VgLO_UR1sjze"
   },
   "source": [
    "### Combining Booleans with &\n"
   ]
  },
  {
   "cell_type": "code",
   "execution_count": 4,
   "metadata": {
    "colab": {
     "base_uri": "https://localhost:8080/"
    },
    "id": "g1qLwUSS7xb_",
    "outputId": "3255c092-07be-4e43-8fb8-fa6456fa44d5"
   },
   "outputs": [
    {
     "data": {
      "text/plain": [
       "0      False\n",
       "1       True\n",
       "2       True\n",
       "3       True\n",
       "4      False\n",
       "       ...  \n",
       "882    False\n",
       "883     True\n",
       "884    False\n",
       "885    False\n",
       "886    False\n",
       "Length: 887, dtype: bool"
      ]
     },
     "execution_count": 4,
     "metadata": {},
     "output_type": "execute_result"
    }
   ],
   "source": [
    "# two booleans joined with an `&` creates a boolean series that we can use as a mask\n",
    "# if either is False this evaluates to False\n",
    "(df.loc[:, 'Age'] > 15) & (df.loc[:, 'Sex'] == 'female')"
   ]
  },
  {
   "cell_type": "code",
   "execution_count": 5,
   "metadata": {
    "colab": {
     "base_uri": "https://localhost:8080/",
     "height": 167
    },
    "id": "zWANmfP_9QuH",
    "outputId": "8162049b-e083-4e92-be9b-cea9338c41c9"
   },
   "outputs": [
    {
     "data": {
      "text/html": [
       "<div>\n",
       "<style scoped>\n",
       "    .dataframe tbody tr th:only-of-type {\n",
       "        vertical-align: middle;\n",
       "    }\n",
       "\n",
       "    .dataframe tbody tr th {\n",
       "        vertical-align: top;\n",
       "    }\n",
       "\n",
       "    .dataframe thead th {\n",
       "        text-align: right;\n",
       "    }\n",
       "</style>\n",
       "<table border=\"1\" class=\"dataframe\">\n",
       "  <thead>\n",
       "    <tr style=\"text-align: right;\">\n",
       "      <th></th>\n",
       "      <th>Survived</th>\n",
       "      <th>Pclass</th>\n",
       "      <th>Name</th>\n",
       "      <th>Sex</th>\n",
       "      <th>Age</th>\n",
       "      <th>Siblings/Spouses Aboard</th>\n",
       "      <th>Parents/Children Aboard</th>\n",
       "      <th>Fare</th>\n",
       "    </tr>\n",
       "  </thead>\n",
       "  <tbody>\n",
       "    <tr>\n",
       "      <th>31</th>\n",
       "      <td>1</td>\n",
       "      <td>1</td>\n",
       "      <td>Mrs. William Augustus (Marie Eugenie) Spencer</td>\n",
       "      <td>female</td>\n",
       "      <td>48.0</td>\n",
       "      <td>1</td>\n",
       "      <td>0</td>\n",
       "      <td>146.5208</td>\n",
       "    </tr>\n",
       "    <tr>\n",
       "      <th>194</th>\n",
       "      <td>1</td>\n",
       "      <td>1</td>\n",
       "      <td>Miss. Elise Lurette</td>\n",
       "      <td>female</td>\n",
       "      <td>58.0</td>\n",
       "      <td>0</td>\n",
       "      <td>0</td>\n",
       "      <td>146.5208</td>\n",
       "    </tr>\n",
       "    <tr>\n",
       "      <th>266</th>\n",
       "      <td>1</td>\n",
       "      <td>1</td>\n",
       "      <td>Mrs. William Thompson (Edith Junkins) Graham</td>\n",
       "      <td>female</td>\n",
       "      <td>58.0</td>\n",
       "      <td>0</td>\n",
       "      <td>1</td>\n",
       "      <td>153.4625</td>\n",
       "    </tr>\n",
       "    <tr>\n",
       "      <th>297</th>\n",
       "      <td>1</td>\n",
       "      <td>1</td>\n",
       "      <td>Mrs. James (Helene DeLaudeniere Chaput) Baxter</td>\n",
       "      <td>female</td>\n",
       "      <td>50.0</td>\n",
       "      <td>0</td>\n",
       "      <td>1</td>\n",
       "      <td>247.5208</td>\n",
       "    </tr>\n",
       "  </tbody>\n",
       "</table>\n",
       "</div>"
      ],
      "text/plain": [
       "     Survived  Pclass                                            Name     Sex  \\\n",
       "31          1       1   Mrs. William Augustus (Marie Eugenie) Spencer  female   \n",
       "194         1       1                             Miss. Elise Lurette  female   \n",
       "266         1       1    Mrs. William Thompson (Edith Junkins) Graham  female   \n",
       "297         1       1  Mrs. James (Helene DeLaudeniere Chaput) Baxter  female   \n",
       "\n",
       "      Age  Siblings/Spouses Aboard  Parents/Children Aboard      Fare  \n",
       "31   48.0                        1                        0  146.5208  \n",
       "194  58.0                        0                        0  146.5208  \n",
       "266  58.0                        0                        1  153.4625  \n",
       "297  50.0                        0                        1  247.5208  "
      ]
     },
     "execution_count": 5,
     "metadata": {},
     "output_type": "execute_result"
    }
   ],
   "source": [
    "# combine three booleans to find female passengers older than 45 who paid more than 100\n",
    "df.loc[(df.loc[:, 'Age'] > 45) &\n",
    "       (df.loc[:, 'Sex'] == 'female') &\n",
    "       (df.loc[:, 'Fare'] > 100)].head()"
   ]
  },
  {
   "cell_type": "markdown",
   "metadata": {
    "id": "T-ogIC9r2UP1"
   },
   "source": [
    "### Combining Booleans with |\n",
    "We must also use `|` instead of `or`, for the same reasons we couln't use `and`."
   ]
  },
  {
   "cell_type": "code",
   "execution_count": 6,
   "metadata": {
    "colab": {
     "base_uri": "https://localhost:8080/",
     "height": 197
    },
    "id": "ys0szFXa30vV",
    "outputId": "a03c1bd9-882d-4a12-f016-812bad450181"
   },
   "outputs": [
    {
     "data": {
      "text/html": [
       "<div>\n",
       "<style scoped>\n",
       "    .dataframe tbody tr th:only-of-type {\n",
       "        vertical-align: middle;\n",
       "    }\n",
       "\n",
       "    .dataframe tbody tr th {\n",
       "        vertical-align: top;\n",
       "    }\n",
       "\n",
       "    .dataframe thead th {\n",
       "        text-align: right;\n",
       "    }\n",
       "</style>\n",
       "<table border=\"1\" class=\"dataframe\">\n",
       "  <thead>\n",
       "    <tr style=\"text-align: right;\">\n",
       "      <th></th>\n",
       "      <th>Survived</th>\n",
       "      <th>Pclass</th>\n",
       "      <th>Name</th>\n",
       "      <th>Sex</th>\n",
       "      <th>Age</th>\n",
       "      <th>Siblings/Spouses Aboard</th>\n",
       "      <th>Parents/Children Aboard</th>\n",
       "      <th>Fare</th>\n",
       "    </tr>\n",
       "  </thead>\n",
       "  <tbody>\n",
       "    <tr>\n",
       "      <th>7</th>\n",
       "      <td>0</td>\n",
       "      <td>3</td>\n",
       "      <td>Master. Gosta Leonard Palsson</td>\n",
       "      <td>male</td>\n",
       "      <td>2.0</td>\n",
       "      <td>3</td>\n",
       "      <td>1</td>\n",
       "      <td>21.075</td>\n",
       "    </tr>\n",
       "    <tr>\n",
       "      <th>10</th>\n",
       "      <td>1</td>\n",
       "      <td>3</td>\n",
       "      <td>Miss. Marguerite Rut Sandstrom</td>\n",
       "      <td>female</td>\n",
       "      <td>4.0</td>\n",
       "      <td>1</td>\n",
       "      <td>1</td>\n",
       "      <td>16.700</td>\n",
       "    </tr>\n",
       "    <tr>\n",
       "      <th>16</th>\n",
       "      <td>0</td>\n",
       "      <td>3</td>\n",
       "      <td>Master. Eugene Rice</td>\n",
       "      <td>male</td>\n",
       "      <td>2.0</td>\n",
       "      <td>4</td>\n",
       "      <td>1</td>\n",
       "      <td>29.125</td>\n",
       "    </tr>\n",
       "    <tr>\n",
       "      <th>24</th>\n",
       "      <td>0</td>\n",
       "      <td>3</td>\n",
       "      <td>Miss. Torborg Danira Palsson</td>\n",
       "      <td>female</td>\n",
       "      <td>8.0</td>\n",
       "      <td>3</td>\n",
       "      <td>1</td>\n",
       "      <td>21.075</td>\n",
       "    </tr>\n",
       "    <tr>\n",
       "      <th>33</th>\n",
       "      <td>0</td>\n",
       "      <td>2</td>\n",
       "      <td>Mr. Edward H Wheadon</td>\n",
       "      <td>male</td>\n",
       "      <td>66.0</td>\n",
       "      <td>0</td>\n",
       "      <td>0</td>\n",
       "      <td>10.500</td>\n",
       "    </tr>\n",
       "  </tbody>\n",
       "</table>\n",
       "</div>"
      ],
      "text/plain": [
       "    Survived  Pclass                            Name     Sex   Age  \\\n",
       "7          0       3   Master. Gosta Leonard Palsson    male   2.0   \n",
       "10         1       3  Miss. Marguerite Rut Sandstrom  female   4.0   \n",
       "16         0       3             Master. Eugene Rice    male   2.0   \n",
       "24         0       3    Miss. Torborg Danira Palsson  female   8.0   \n",
       "33         0       2            Mr. Edward H Wheadon    male  66.0   \n",
       "\n",
       "    Siblings/Spouses Aboard  Parents/Children Aboard    Fare  \n",
       "7                         3                        1  21.075  \n",
       "10                        1                        1  16.700  \n",
       "16                        4                        1  29.125  \n",
       "24                        3                        1  21.075  \n",
       "33                        0                        0  10.500  "
      ]
     },
     "execution_count": 6,
     "metadata": {},
     "output_type": "execute_result"
    }
   ],
   "source": [
    "# using `|` to find passengers under 10 or over 60\n",
    "df.loc[(df.loc[:, 'Age'] > 60) |\n",
    "       (df.loc[:, 'Age'] < 10)].head()"
   ]
  },
  {
   "cell_type": "markdown",
   "metadata": {
    "id": "zyks0sHw6gpT"
   },
   "source": [
    "### Simple Examples Using & and |"
   ]
  },
  {
   "cell_type": "code",
   "execution_count": 7,
   "metadata": {
    "colab": {
     "base_uri": "https://localhost:8080/",
     "height": 167
    },
    "id": "YsGO7_Od6fp1",
    "outputId": "020b3b68-07f8-423a-aa13-7db9278b7c0c"
   },
   "outputs": [
    {
     "data": {
      "text/html": [
       "<div>\n",
       "<style scoped>\n",
       "    .dataframe tbody tr th:only-of-type {\n",
       "        vertical-align: middle;\n",
       "    }\n",
       "\n",
       "    .dataframe tbody tr th {\n",
       "        vertical-align: top;\n",
       "    }\n",
       "\n",
       "    .dataframe thead th {\n",
       "        text-align: right;\n",
       "    }\n",
       "</style>\n",
       "<table border=\"1\" class=\"dataframe\">\n",
       "  <thead>\n",
       "    <tr style=\"text-align: right;\">\n",
       "      <th></th>\n",
       "      <th>T</th>\n",
       "      <th>F</th>\n",
       "      <th>T &amp; F</th>\n",
       "      <th>T | F</th>\n",
       "    </tr>\n",
       "  </thead>\n",
       "  <tbody>\n",
       "    <tr>\n",
       "      <th>0</th>\n",
       "      <td>True</td>\n",
       "      <td>False</td>\n",
       "      <td>False</td>\n",
       "      <td>True</td>\n",
       "    </tr>\n",
       "    <tr>\n",
       "      <th>1</th>\n",
       "      <td>True</td>\n",
       "      <td>False</td>\n",
       "      <td>False</td>\n",
       "      <td>True</td>\n",
       "    </tr>\n",
       "    <tr>\n",
       "      <th>2</th>\n",
       "      <td>True</td>\n",
       "      <td>False</td>\n",
       "      <td>False</td>\n",
       "      <td>True</td>\n",
       "    </tr>\n",
       "    <tr>\n",
       "      <th>3</th>\n",
       "      <td>True</td>\n",
       "      <td>False</td>\n",
       "      <td>False</td>\n",
       "      <td>True</td>\n",
       "    </tr>\n",
       "  </tbody>\n",
       "</table>\n",
       "</div>"
      ],
      "text/plain": [
       "      T      F  T & F  T | F\n",
       "0  True  False  False   True\n",
       "1  True  False  False   True\n",
       "2  True  False  False   True\n",
       "3  True  False  False   True"
      ]
     },
     "execution_count": 7,
     "metadata": {},
     "output_type": "execute_result"
    }
   ],
   "source": [
    "# create an empty dataframe\n",
    "df_bool = pd.DataFrame(dtype=bool, index = range(0,4))\n",
    "\n",
    "# create columns of True and False\n",
    "df_bool.loc[:, 'T'] = True\n",
    "df_bool.loc[:, 'F'] = False\n",
    "\n",
    "# combine with bitwise and\n",
    "df_bool.loc[:, 'T & F'] = (df_bool.loc[:, 'T'] & df_bool.loc[:, 'F']) \n",
    "\n",
    "# combine with bitwise or\n",
    "df_bool.loc[:, 'T | F'] = (df_bool.loc[:, 'T'] | df_bool.loc[:, 'F']) \n",
    "\n",
    "# check the result\n",
    "df_bool"
   ]
  },
  {
   "cell_type": "markdown",
   "metadata": {
    "id": "qkPJPanE-bng"
   },
   "source": [
    "\n",
    "## Negating Booleans with ~\n",
    "With standard Python we were able to negate booleans (turn True to False or False to True) by inserting `not` in front of the boolean.\n",
    "\n",
    "\n",
    " "
   ]
  },
  {
   "cell_type": "code",
   "execution_count": 8,
   "metadata": {
    "colab": {
     "base_uri": "https://localhost:8080/"
    },
    "id": "rTYvO4a6DLsC",
    "outputId": "73aac43c-a532-4fd1-d793-d9a5972cb43e"
   },
   "outputs": [
    {
     "data": {
      "text/plain": [
       "False"
      ]
     },
     "execution_count": 8,
     "metadata": {},
     "output_type": "execute_result"
    }
   ],
   "source": [
    "not True"
   ]
  },
  {
   "cell_type": "code",
   "execution_count": 9,
   "metadata": {
    "colab": {
     "base_uri": "https://localhost:8080/"
    },
    "id": "Yfyh7_ZDDNpZ",
    "outputId": "16986084-024c-4dfc-a6bc-c36a7a2b6069"
   },
   "outputs": [
    {
     "data": {
      "text/plain": [
       "True"
      ]
     },
     "execution_count": 9,
     "metadata": {},
     "output_type": "execute_result"
    }
   ],
   "source": [
    "not False"
   ]
  },
  {
   "cell_type": "markdown",
   "metadata": {
    "id": "LcsqjNXNDPvR"
   },
   "source": [
    "We will sometimes want to do the same thing with a whole series of booleans. But we can't use `not` because it won't compare all of the values in the series. We have to use the bitwise version of `not` instead, with is the tilde character: `~`. "
   ]
  },
  {
   "cell_type": "code",
   "execution_count": 10,
   "metadata": {
    "colab": {
     "base_uri": "https://localhost:8080/",
     "height": 167
    },
    "id": "LqBIQa-yEJD4",
    "outputId": "a47dce48-69d1-4558-c645-780e867c383a"
   },
   "outputs": [
    {
     "data": {
      "text/html": [
       "<div>\n",
       "<style scoped>\n",
       "    .dataframe tbody tr th:only-of-type {\n",
       "        vertical-align: middle;\n",
       "    }\n",
       "\n",
       "    .dataframe tbody tr th {\n",
       "        vertical-align: top;\n",
       "    }\n",
       "\n",
       "    .dataframe thead th {\n",
       "        text-align: right;\n",
       "    }\n",
       "</style>\n",
       "<table border=\"1\" class=\"dataframe\">\n",
       "  <thead>\n",
       "    <tr style=\"text-align: right;\">\n",
       "      <th></th>\n",
       "      <th>T</th>\n",
       "      <th>~T</th>\n",
       "    </tr>\n",
       "  </thead>\n",
       "  <tbody>\n",
       "    <tr>\n",
       "      <th>0</th>\n",
       "      <td>True</td>\n",
       "      <td>False</td>\n",
       "    </tr>\n",
       "    <tr>\n",
       "      <th>1</th>\n",
       "      <td>True</td>\n",
       "      <td>False</td>\n",
       "    </tr>\n",
       "    <tr>\n",
       "      <th>2</th>\n",
       "      <td>True</td>\n",
       "      <td>False</td>\n",
       "    </tr>\n",
       "    <tr>\n",
       "      <th>3</th>\n",
       "      <td>True</td>\n",
       "      <td>False</td>\n",
       "    </tr>\n",
       "  </tbody>\n",
       "</table>\n",
       "</div>"
      ],
      "text/plain": [
       "      T     ~T\n",
       "0  True  False\n",
       "1  True  False\n",
       "2  True  False\n",
       "3  True  False"
      ]
     },
     "execution_count": 10,
     "metadata": {},
     "output_type": "execute_result"
    }
   ],
   "source": [
    "# create an empty dataframe\n",
    "df_bool = pd.DataFrame(dtype=bool, index = range(0,4))\n",
    "\n",
    "# create a column of True\n",
    "df_bool.loc[:, 'T'] = True\n",
    "\n",
    "# negate the True column\n",
    "df_bool.loc[:, '~T'] = ~df_bool.loc[:, 'T'] \n",
    "\n",
    "# check the result\n",
    "df_bool"
   ]
  },
  {
   "cell_type": "code",
   "execution_count": 11,
   "metadata": {
    "colab": {
     "base_uri": "https://localhost:8080/",
     "height": 167
    },
    "id": "c2HWqxk1ETaw",
    "outputId": "510d8b78-900f-4ae6-f8b9-9b6869402559"
   },
   "outputs": [
    {
     "data": {
      "text/html": [
       "<div>\n",
       "<style scoped>\n",
       "    .dataframe tbody tr th:only-of-type {\n",
       "        vertical-align: middle;\n",
       "    }\n",
       "\n",
       "    .dataframe tbody tr th {\n",
       "        vertical-align: top;\n",
       "    }\n",
       "\n",
       "    .dataframe thead th {\n",
       "        text-align: right;\n",
       "    }\n",
       "</style>\n",
       "<table border=\"1\" class=\"dataframe\">\n",
       "  <thead>\n",
       "    <tr style=\"text-align: right;\">\n",
       "      <th></th>\n",
       "      <th>T</th>\n",
       "      <th>~T</th>\n",
       "      <th>F</th>\n",
       "      <th>~F</th>\n",
       "    </tr>\n",
       "  </thead>\n",
       "  <tbody>\n",
       "    <tr>\n",
       "      <th>0</th>\n",
       "      <td>True</td>\n",
       "      <td>False</td>\n",
       "      <td>False</td>\n",
       "      <td>True</td>\n",
       "    </tr>\n",
       "    <tr>\n",
       "      <th>1</th>\n",
       "      <td>True</td>\n",
       "      <td>False</td>\n",
       "      <td>False</td>\n",
       "      <td>True</td>\n",
       "    </tr>\n",
       "    <tr>\n",
       "      <th>2</th>\n",
       "      <td>True</td>\n",
       "      <td>False</td>\n",
       "      <td>False</td>\n",
       "      <td>True</td>\n",
       "    </tr>\n",
       "    <tr>\n",
       "      <th>3</th>\n",
       "      <td>True</td>\n",
       "      <td>False</td>\n",
       "      <td>False</td>\n",
       "      <td>True</td>\n",
       "    </tr>\n",
       "  </tbody>\n",
       "</table>\n",
       "</div>"
      ],
      "text/plain": [
       "      T     ~T      F    ~F\n",
       "0  True  False  False  True\n",
       "1  True  False  False  True\n",
       "2  True  False  False  True\n",
       "3  True  False  False  True"
      ]
     },
     "execution_count": 11,
     "metadata": {},
     "output_type": "execute_result"
    }
   ],
   "source": [
    "# create a column of False\n",
    "df_bool.loc[:, 'F'] = False\n",
    "\n",
    "# negate the False column\n",
    "df_bool.loc[:, '~F'] = ~df_bool.loc[:, 'F']\n",
    "\n",
    "# check the result\n",
    "df_bool "
   ]
  },
  {
   "cell_type": "markdown",
   "metadata": {
    "id": "cvkUwoN0DGwC"
   },
   "source": [
    "## Examples of Combinations and Negations\n",
    "Below we use a pandas string method `str.startswith()` that returns a boolean value if the value in the series starts with the string specified as the argument. So pandas will look at the string we passed as the argument and compare it to each value in the series. If the value in the series starts with the string, pandas returns `True`. Otherwise, it returns `False`.  "
   ]
  },
  {
   "cell_type": "code",
   "execution_count": 12,
   "metadata": {
    "colab": {
     "base_uri": "https://localhost:8080/"
    },
    "id": "Iib_1mZK-I1E",
    "outputId": "fe9e42f0-89df-4463-ab80-0c0c41d48b6f"
   },
   "outputs": [
    {
     "data": {
      "text/plain": [
       "0      False\n",
       "1       True\n",
       "2      False\n",
       "3       True\n",
       "4      False\n",
       "       ...  \n",
       "882    False\n",
       "883    False\n",
       "884    False\n",
       "885    False\n",
       "886    False\n",
       "Name: Name, Length: 887, dtype: bool"
      ]
     },
     "execution_count": 12,
     "metadata": {},
     "output_type": "execute_result"
    }
   ],
   "source": [
    "# a boolean series indicating passengers names that start with 'Mrs.'\n",
    "df.loc[:, 'Name'].str.startswith('Mrs.')"
   ]
  },
  {
   "cell_type": "markdown",
   "metadata": {
    "id": "LHfpIVgREefI"
   },
   "source": [
    "So we can use `str.startswith()` to create boolean masks to create dataframes with only a subset of the data. In this case, we are going to create different views into the dataframe:\n",
    "* all passengers whose name starts with `'Mrs.'`\n",
    "* all passengers whose name starts with `'Miss.'`. "
   ]
  },
  {
   "cell_type": "code",
   "execution_count": 13,
   "metadata": {
    "colab": {
     "base_uri": "https://localhost:8080/"
    },
    "id": "3Y8cIQGVvsyr",
    "outputId": "3cb6a68d-60ee-4a31-dc62-e09c10041f12"
   },
   "outputs": [
    {
     "name": "stdout",
     "output_type": "stream",
     "text": [
      "Average age of Mrs. passengers: 35.768\n",
      "Average age of Miss. passengers: 21.994505494505493\n"
     ]
    }
   ],
   "source": [
    "# creates a view into the dataframe, all rows where the name starts with 'Mrs.'\n",
    "df_mrs = df.loc[df.loc[:, 'Name'].str.startswith('Mrs.')]\n",
    "\n",
    "# creates a view into the dataframe, all rows where the name starts with 'Miss.'\n",
    "df_miss = df.loc[df.loc[:,'Name'].str.startswith('Miss.')]\n",
    "\n",
    "# use the two views to get the mean age for each\n",
    "print('Average age of Mrs. passengers:', df_mrs.loc[:, 'Age'].mean())\n",
    "print('Average age of Miss. passengers:', df_miss.loc[:, 'Age'].mean())\n"
   ]
  },
  {
   "cell_type": "markdown",
   "metadata": {
    "id": "i1ieFTdMrWoY"
   },
   "source": [
    "Look at the code below and see if you can figure out what it will do before you look at the result."
   ]
  },
  {
   "cell_type": "code",
   "execution_count": 14,
   "metadata": {
    "colab": {
     "base_uri": "https://localhost:8080/",
     "height": 797
    },
    "id": "oPIq9upar-js",
    "outputId": "5b86c8dd-cfe8-4b03-c7f0-d00ffe88c7ca"
   },
   "outputs": [
    {
     "data": {
      "text/html": [
       "<div>\n",
       "<style scoped>\n",
       "    .dataframe tbody tr th:only-of-type {\n",
       "        vertical-align: middle;\n",
       "    }\n",
       "\n",
       "    .dataframe tbody tr th {\n",
       "        vertical-align: top;\n",
       "    }\n",
       "\n",
       "    .dataframe thead th {\n",
       "        text-align: right;\n",
       "    }\n",
       "</style>\n",
       "<table border=\"1\" class=\"dataframe\">\n",
       "  <thead>\n",
       "    <tr style=\"text-align: right;\">\n",
       "      <th></th>\n",
       "      <th>Survived</th>\n",
       "      <th>Pclass</th>\n",
       "      <th>Name</th>\n",
       "      <th>Sex</th>\n",
       "      <th>Age</th>\n",
       "      <th>Siblings/Spouses Aboard</th>\n",
       "      <th>Parents/Children Aboard</th>\n",
       "      <th>Fare</th>\n",
       "    </tr>\n",
       "  </thead>\n",
       "  <tbody>\n",
       "    <tr>\n",
       "      <th>149</th>\n",
       "      <td>0</td>\n",
       "      <td>2</td>\n",
       "      <td>Rev. Robert James Bateman</td>\n",
       "      <td>male</td>\n",
       "      <td>51.0</td>\n",
       "      <td>0</td>\n",
       "      <td>0</td>\n",
       "      <td>12.5250</td>\n",
       "    </tr>\n",
       "    <tr>\n",
       "      <th>244</th>\n",
       "      <td>0</td>\n",
       "      <td>1</td>\n",
       "      <td>Dr. William Edward Minahan</td>\n",
       "      <td>male</td>\n",
       "      <td>44.0</td>\n",
       "      <td>2</td>\n",
       "      <td>0</td>\n",
       "      <td>90.0000</td>\n",
       "    </tr>\n",
       "    <tr>\n",
       "      <th>248</th>\n",
       "      <td>0</td>\n",
       "      <td>2</td>\n",
       "      <td>Rev. Ernest Courtenay Carter</td>\n",
       "      <td>male</td>\n",
       "      <td>54.0</td>\n",
       "      <td>1</td>\n",
       "      <td>0</td>\n",
       "      <td>26.0000</td>\n",
       "    </tr>\n",
       "    <tr>\n",
       "      <th>315</th>\n",
       "      <td>0</td>\n",
       "      <td>2</td>\n",
       "      <td>Dr. Ernest Moraweck</td>\n",
       "      <td>male</td>\n",
       "      <td>54.0</td>\n",
       "      <td>0</td>\n",
       "      <td>0</td>\n",
       "      <td>14.0000</td>\n",
       "    </tr>\n",
       "    <tr>\n",
       "      <th>367</th>\n",
       "      <td>1</td>\n",
       "      <td>1</td>\n",
       "      <td>Mme. Leontine Pauline Aubart</td>\n",
       "      <td>female</td>\n",
       "      <td>24.0</td>\n",
       "      <td>0</td>\n",
       "      <td>0</td>\n",
       "      <td>69.3000</td>\n",
       "    </tr>\n",
       "    <tr>\n",
       "      <th>396</th>\n",
       "      <td>0</td>\n",
       "      <td>2</td>\n",
       "      <td>Dr. Alfred Pain</td>\n",
       "      <td>male</td>\n",
       "      <td>23.0</td>\n",
       "      <td>0</td>\n",
       "      <td>0</td>\n",
       "      <td>10.5000</td>\n",
       "    </tr>\n",
       "    <tr>\n",
       "      <th>440</th>\n",
       "      <td>1</td>\n",
       "      <td>2</td>\n",
       "      <td>Ms. Encarnacion Reynaldo</td>\n",
       "      <td>female</td>\n",
       "      <td>28.0</td>\n",
       "      <td>0</td>\n",
       "      <td>0</td>\n",
       "      <td>13.0000</td>\n",
       "    </tr>\n",
       "    <tr>\n",
       "      <th>446</th>\n",
       "      <td>1</td>\n",
       "      <td>1</td>\n",
       "      <td>Major. Arthur Godfrey Peuchen</td>\n",
       "      <td>male</td>\n",
       "      <td>52.0</td>\n",
       "      <td>0</td>\n",
       "      <td>0</td>\n",
       "      <td>30.5000</td>\n",
       "    </tr>\n",
       "    <tr>\n",
       "      <th>533</th>\n",
       "      <td>0</td>\n",
       "      <td>1</td>\n",
       "      <td>Major. Archibald Willingham Butt</td>\n",
       "      <td>male</td>\n",
       "      <td>45.0</td>\n",
       "      <td>0</td>\n",
       "      <td>0</td>\n",
       "      <td>26.5500</td>\n",
       "    </tr>\n",
       "    <tr>\n",
       "      <th>553</th>\n",
       "      <td>1</td>\n",
       "      <td>1</td>\n",
       "      <td>Lady. (Lucille Christiana Sutherland)Duff Gordon</td>\n",
       "      <td>female</td>\n",
       "      <td>48.0</td>\n",
       "      <td>1</td>\n",
       "      <td>0</td>\n",
       "      <td>39.6000</td>\n",
       "    </tr>\n",
       "    <tr>\n",
       "      <th>596</th>\n",
       "      <td>1</td>\n",
       "      <td>1</td>\n",
       "      <td>Sir. Cosmo Edmund Duff Gordon</td>\n",
       "      <td>male</td>\n",
       "      <td>49.0</td>\n",
       "      <td>1</td>\n",
       "      <td>0</td>\n",
       "      <td>56.9292</td>\n",
       "    </tr>\n",
       "    <tr>\n",
       "      <th>623</th>\n",
       "      <td>0</td>\n",
       "      <td>2</td>\n",
       "      <td>Rev. Charles Leonard Kirkland</td>\n",
       "      <td>male</td>\n",
       "      <td>57.0</td>\n",
       "      <td>0</td>\n",
       "      <td>0</td>\n",
       "      <td>12.3500</td>\n",
       "    </tr>\n",
       "    <tr>\n",
       "      <th>629</th>\n",
       "      <td>1</td>\n",
       "      <td>1</td>\n",
       "      <td>Dr. Max Stahelin-Maeglin</td>\n",
       "      <td>male</td>\n",
       "      <td>32.0</td>\n",
       "      <td>0</td>\n",
       "      <td>0</td>\n",
       "      <td>30.5000</td>\n",
       "    </tr>\n",
       "    <tr>\n",
       "      <th>638</th>\n",
       "      <td>1</td>\n",
       "      <td>1</td>\n",
       "      <td>Mlle. Emma Sagesser</td>\n",
       "      <td>female</td>\n",
       "      <td>24.0</td>\n",
       "      <td>0</td>\n",
       "      <td>0</td>\n",
       "      <td>69.3000</td>\n",
       "    </tr>\n",
       "    <tr>\n",
       "      <th>644</th>\n",
       "      <td>1</td>\n",
       "      <td>1</td>\n",
       "      <td>Col. Oberst Alfons Simonius-Blumer</td>\n",
       "      <td>male</td>\n",
       "      <td>56.0</td>\n",
       "      <td>0</td>\n",
       "      <td>0</td>\n",
       "      <td>35.5000</td>\n",
       "    </tr>\n",
       "    <tr>\n",
       "      <th>657</th>\n",
       "      <td>1</td>\n",
       "      <td>1</td>\n",
       "      <td>Dr. Henry William Frauenthal</td>\n",
       "      <td>male</td>\n",
       "      <td>50.0</td>\n",
       "      <td>2</td>\n",
       "      <td>0</td>\n",
       "      <td>133.6500</td>\n",
       "    </tr>\n",
       "    <tr>\n",
       "      <th>691</th>\n",
       "      <td>0</td>\n",
       "      <td>1</td>\n",
       "      <td>Col. John Weir</td>\n",
       "      <td>male</td>\n",
       "      <td>60.0</td>\n",
       "      <td>0</td>\n",
       "      <td>0</td>\n",
       "      <td>26.5500</td>\n",
       "    </tr>\n",
       "    <tr>\n",
       "      <th>707</th>\n",
       "      <td>1</td>\n",
       "      <td>1</td>\n",
       "      <td>Mlle. Berthe Antonine Mayne</td>\n",
       "      <td>female</td>\n",
       "      <td>24.0</td>\n",
       "      <td>0</td>\n",
       "      <td>0</td>\n",
       "      <td>49.5042</td>\n",
       "    </tr>\n",
       "    <tr>\n",
       "      <th>741</th>\n",
       "      <td>0</td>\n",
       "      <td>1</td>\n",
       "      <td>Capt. Edward Gifford Crosby</td>\n",
       "      <td>male</td>\n",
       "      <td>70.0</td>\n",
       "      <td>1</td>\n",
       "      <td>1</td>\n",
       "      <td>71.0000</td>\n",
       "    </tr>\n",
       "    <tr>\n",
       "      <th>755</th>\n",
       "      <td>1</td>\n",
       "      <td>1</td>\n",
       "      <td>the Countess. of (Lucy Noel Martha Dyer-Edward...</td>\n",
       "      <td>female</td>\n",
       "      <td>33.0</td>\n",
       "      <td>0</td>\n",
       "      <td>0</td>\n",
       "      <td>86.5000</td>\n",
       "    </tr>\n",
       "    <tr>\n",
       "      <th>762</th>\n",
       "      <td>0</td>\n",
       "      <td>1</td>\n",
       "      <td>Dr. Arthur Jackson Brewe</td>\n",
       "      <td>male</td>\n",
       "      <td>46.0</td>\n",
       "      <td>0</td>\n",
       "      <td>0</td>\n",
       "      <td>39.6000</td>\n",
       "    </tr>\n",
       "    <tr>\n",
       "      <th>792</th>\n",
       "      <td>1</td>\n",
       "      <td>1</td>\n",
       "      <td>Dr. Alice (Farnham) Leader</td>\n",
       "      <td>female</td>\n",
       "      <td>49.0</td>\n",
       "      <td>0</td>\n",
       "      <td>0</td>\n",
       "      <td>25.9292</td>\n",
       "    </tr>\n",
       "    <tr>\n",
       "      <th>818</th>\n",
       "      <td>0</td>\n",
       "      <td>1</td>\n",
       "      <td>Jonkheer. John George Reuchlin</td>\n",
       "      <td>male</td>\n",
       "      <td>38.0</td>\n",
       "      <td>0</td>\n",
       "      <td>0</td>\n",
       "      <td>0.0000</td>\n",
       "    </tr>\n",
       "    <tr>\n",
       "      <th>844</th>\n",
       "      <td>0</td>\n",
       "      <td>2</td>\n",
       "      <td>Rev. John Harper</td>\n",
       "      <td>male</td>\n",
       "      <td>28.0</td>\n",
       "      <td>0</td>\n",
       "      <td>1</td>\n",
       "      <td>33.0000</td>\n",
       "    </tr>\n",
       "    <tr>\n",
       "      <th>882</th>\n",
       "      <td>0</td>\n",
       "      <td>2</td>\n",
       "      <td>Rev. Juozas Montvila</td>\n",
       "      <td>male</td>\n",
       "      <td>27.0</td>\n",
       "      <td>0</td>\n",
       "      <td>0</td>\n",
       "      <td>13.0000</td>\n",
       "    </tr>\n",
       "  </tbody>\n",
       "</table>\n",
       "</div>"
      ],
      "text/plain": [
       "     Survived  Pclass                                               Name  \\\n",
       "149         0       2                          Rev. Robert James Bateman   \n",
       "244         0       1                         Dr. William Edward Minahan   \n",
       "248         0       2                       Rev. Ernest Courtenay Carter   \n",
       "315         0       2                                Dr. Ernest Moraweck   \n",
       "367         1       1                       Mme. Leontine Pauline Aubart   \n",
       "396         0       2                                    Dr. Alfred Pain   \n",
       "440         1       2                           Ms. Encarnacion Reynaldo   \n",
       "446         1       1                      Major. Arthur Godfrey Peuchen   \n",
       "533         0       1                   Major. Archibald Willingham Butt   \n",
       "553         1       1   Lady. (Lucille Christiana Sutherland)Duff Gordon   \n",
       "596         1       1                      Sir. Cosmo Edmund Duff Gordon   \n",
       "623         0       2                      Rev. Charles Leonard Kirkland   \n",
       "629         1       1                           Dr. Max Stahelin-Maeglin   \n",
       "638         1       1                                Mlle. Emma Sagesser   \n",
       "644         1       1                 Col. Oberst Alfons Simonius-Blumer   \n",
       "657         1       1                       Dr. Henry William Frauenthal   \n",
       "691         0       1                                     Col. John Weir   \n",
       "707         1       1                        Mlle. Berthe Antonine Mayne   \n",
       "741         0       1                        Capt. Edward Gifford Crosby   \n",
       "755         1       1  the Countess. of (Lucy Noel Martha Dyer-Edward...   \n",
       "762         0       1                           Dr. Arthur Jackson Brewe   \n",
       "792         1       1                         Dr. Alice (Farnham) Leader   \n",
       "818         0       1                     Jonkheer. John George Reuchlin   \n",
       "844         0       2                                   Rev. John Harper   \n",
       "882         0       2                               Rev. Juozas Montvila   \n",
       "\n",
       "        Sex   Age  Siblings/Spouses Aboard  Parents/Children Aboard      Fare  \n",
       "149    male  51.0                        0                        0   12.5250  \n",
       "244    male  44.0                        2                        0   90.0000  \n",
       "248    male  54.0                        1                        0   26.0000  \n",
       "315    male  54.0                        0                        0   14.0000  \n",
       "367  female  24.0                        0                        0   69.3000  \n",
       "396    male  23.0                        0                        0   10.5000  \n",
       "440  female  28.0                        0                        0   13.0000  \n",
       "446    male  52.0                        0                        0   30.5000  \n",
       "533    male  45.0                        0                        0   26.5500  \n",
       "553  female  48.0                        1                        0   39.6000  \n",
       "596    male  49.0                        1                        0   56.9292  \n",
       "623    male  57.0                        0                        0   12.3500  \n",
       "629    male  32.0                        0                        0   30.5000  \n",
       "638  female  24.0                        0                        0   69.3000  \n",
       "644    male  56.0                        0                        0   35.5000  \n",
       "657    male  50.0                        2                        0  133.6500  \n",
       "691    male  60.0                        0                        0   26.5500  \n",
       "707  female  24.0                        0                        0   49.5042  \n",
       "741    male  70.0                        1                        1   71.0000  \n",
       "755  female  33.0                        0                        0   86.5000  \n",
       "762    male  46.0                        0                        0   39.6000  \n",
       "792  female  49.0                        0                        0   25.9292  \n",
       "818    male  38.0                        0                        0    0.0000  \n",
       "844    male  28.0                        0                        1   33.0000  \n",
       "882    male  27.0                        0                        0   13.0000  "
      ]
     },
     "execution_count": 14,
     "metadata": {},
     "output_type": "execute_result"
    }
   ],
   "source": [
    "# note that these are all negated\n",
    "mask_miss   = ~df.loc[:, 'Name'].str.contains('Miss')\n",
    "mask_mrs    = ~df.loc[:, 'Name'].str.contains('Mrs.')\n",
    "mask_mr     = ~df.loc[:, 'Name'].str.contains('Mr.')\n",
    "mask_master = ~df.loc[:, 'Name'].str.contains('Master')\n",
    "\n",
    "df.loc[mask_miss & mask_mrs & mask_mr & mask_master, :].tail(25)                                      "
   ]
  },
  {
   "cell_type": "markdown",
   "metadata": {
    "id": "eQDGGrLnsYpS"
   },
   "source": [
    "Random observations:\n",
    "* None of the Reverends survived.\n",
    "* Dr. Pain died at 23.\n",
    "* Major Archibald Butt had quite a career, and there are some interesting, but unverified, accounts of [his time on the titanic](https://en.wikipedia.org/wiki/Archibald_Butt). \n",
    "*  In case you're [wondering what a Jonkheer denotes](https://en.wikipedia.org/wiki/Jonkheer). "
   ]
  },
  {
   "cell_type": "markdown",
   "metadata": {
    "id": "VesRixhAk6UA"
   },
   "source": [
    "Another pandas string method that comes in handy is `str.contains()`. It will return True for any series value that contains the string that is passed as an argument. We can use this to find the Palsson family. A sad story in four rows of a dataframe."
   ]
  },
  {
   "cell_type": "code",
   "execution_count": 15,
   "metadata": {
    "colab": {
     "base_uri": "https://localhost:8080/",
     "height": 167
    },
    "id": "vJuIH3hdjuC8",
    "outputId": "61a3e4fd-3b66-438e-be80-b35289fc8c67"
   },
   "outputs": [
    {
     "data": {
      "text/html": [
       "<div>\n",
       "<style scoped>\n",
       "    .dataframe tbody tr th:only-of-type {\n",
       "        vertical-align: middle;\n",
       "    }\n",
       "\n",
       "    .dataframe tbody tr th {\n",
       "        vertical-align: top;\n",
       "    }\n",
       "\n",
       "    .dataframe thead th {\n",
       "        text-align: right;\n",
       "    }\n",
       "</style>\n",
       "<table border=\"1\" class=\"dataframe\">\n",
       "  <thead>\n",
       "    <tr style=\"text-align: right;\">\n",
       "      <th></th>\n",
       "      <th>Survived</th>\n",
       "      <th>Pclass</th>\n",
       "      <th>Name</th>\n",
       "      <th>Sex</th>\n",
       "      <th>Age</th>\n",
       "      <th>Siblings/Spouses Aboard</th>\n",
       "      <th>Parents/Children Aboard</th>\n",
       "      <th>Fare</th>\n",
       "    </tr>\n",
       "  </thead>\n",
       "  <tbody>\n",
       "    <tr>\n",
       "      <th>7</th>\n",
       "      <td>0</td>\n",
       "      <td>3</td>\n",
       "      <td>Master. Gosta Leonard Palsson</td>\n",
       "      <td>male</td>\n",
       "      <td>2.0</td>\n",
       "      <td>3</td>\n",
       "      <td>1</td>\n",
       "      <td>21.075</td>\n",
       "    </tr>\n",
       "    <tr>\n",
       "      <th>24</th>\n",
       "      <td>0</td>\n",
       "      <td>3</td>\n",
       "      <td>Miss. Torborg Danira Palsson</td>\n",
       "      <td>female</td>\n",
       "      <td>8.0</td>\n",
       "      <td>3</td>\n",
       "      <td>1</td>\n",
       "      <td>21.075</td>\n",
       "    </tr>\n",
       "    <tr>\n",
       "      <th>372</th>\n",
       "      <td>0</td>\n",
       "      <td>3</td>\n",
       "      <td>Miss. Stina Viola Palsson</td>\n",
       "      <td>female</td>\n",
       "      <td>3.0</td>\n",
       "      <td>3</td>\n",
       "      <td>1</td>\n",
       "      <td>21.075</td>\n",
       "    </tr>\n",
       "    <tr>\n",
       "      <th>564</th>\n",
       "      <td>0</td>\n",
       "      <td>3</td>\n",
       "      <td>Mrs. Nils (Alma Cornelia Berglund) Palsson</td>\n",
       "      <td>female</td>\n",
       "      <td>29.0</td>\n",
       "      <td>0</td>\n",
       "      <td>4</td>\n",
       "      <td>21.075</td>\n",
       "    </tr>\n",
       "  </tbody>\n",
       "</table>\n",
       "</div>"
      ],
      "text/plain": [
       "     Survived  Pclass                                        Name     Sex  \\\n",
       "7           0       3               Master. Gosta Leonard Palsson    male   \n",
       "24          0       3                Miss. Torborg Danira Palsson  female   \n",
       "372         0       3                   Miss. Stina Viola Palsson  female   \n",
       "564         0       3  Mrs. Nils (Alma Cornelia Berglund) Palsson  female   \n",
       "\n",
       "      Age  Siblings/Spouses Aboard  Parents/Children Aboard    Fare  \n",
       "7     2.0                        3                        1  21.075  \n",
       "24    8.0                        3                        1  21.075  \n",
       "372   3.0                        3                        1  21.075  \n",
       "564  29.0                        0                        4  21.075  "
      ]
     },
     "execution_count": 15,
     "metadata": {},
     "output_type": "execute_result"
    }
   ],
   "source": [
    "df.loc[df.loc[:, 'Name'].str.contains('Palsson')]"
   ]
  },
  {
   "cell_type": "markdown",
   "metadata": {
    "id": "0nx0HBlUukqO"
   },
   "source": [
    "The Sage family had a similarly sad fate.\n"
   ]
  },
  {
   "cell_type": "code",
   "execution_count": 16,
   "metadata": {
    "colab": {
     "base_uri": "https://localhost:8080/",
     "height": 287
    },
    "id": "XGNAhavsudFP",
    "outputId": "f18711d7-4069-411f-d336-91483a3d52de"
   },
   "outputs": [
    {
     "data": {
      "text/html": [
       "<div>\n",
       "<style scoped>\n",
       "    .dataframe tbody tr th:only-of-type {\n",
       "        vertical-align: middle;\n",
       "    }\n",
       "\n",
       "    .dataframe tbody tr th {\n",
       "        vertical-align: top;\n",
       "    }\n",
       "\n",
       "    .dataframe thead th {\n",
       "        text-align: right;\n",
       "    }\n",
       "</style>\n",
       "<table border=\"1\" class=\"dataframe\">\n",
       "  <thead>\n",
       "    <tr style=\"text-align: right;\">\n",
       "      <th></th>\n",
       "      <th>Survived</th>\n",
       "      <th>Pclass</th>\n",
       "      <th>Name</th>\n",
       "      <th>Sex</th>\n",
       "      <th>Age</th>\n",
       "      <th>Siblings/Spouses Aboard</th>\n",
       "      <th>Parents/Children Aboard</th>\n",
       "      <th>Fare</th>\n",
       "    </tr>\n",
       "  </thead>\n",
       "  <tbody>\n",
       "    <tr>\n",
       "      <th>158</th>\n",
       "      <td>0</td>\n",
       "      <td>3</td>\n",
       "      <td>Master. Thomas Henry Sage</td>\n",
       "      <td>male</td>\n",
       "      <td>5.0</td>\n",
       "      <td>8</td>\n",
       "      <td>2</td>\n",
       "      <td>69.55</td>\n",
       "    </tr>\n",
       "    <tr>\n",
       "      <th>179</th>\n",
       "      <td>0</td>\n",
       "      <td>3</td>\n",
       "      <td>Miss. Constance Gladys Sage</td>\n",
       "      <td>female</td>\n",
       "      <td>8.0</td>\n",
       "      <td>8</td>\n",
       "      <td>2</td>\n",
       "      <td>69.55</td>\n",
       "    </tr>\n",
       "    <tr>\n",
       "      <th>200</th>\n",
       "      <td>0</td>\n",
       "      <td>3</td>\n",
       "      <td>Mr. Frederick Sage</td>\n",
       "      <td>male</td>\n",
       "      <td>17.0</td>\n",
       "      <td>8</td>\n",
       "      <td>2</td>\n",
       "      <td>69.55</td>\n",
       "    </tr>\n",
       "    <tr>\n",
       "      <th>322</th>\n",
       "      <td>0</td>\n",
       "      <td>3</td>\n",
       "      <td>Mr. George John Jr Sage</td>\n",
       "      <td>male</td>\n",
       "      <td>20.0</td>\n",
       "      <td>8</td>\n",
       "      <td>2</td>\n",
       "      <td>69.55</td>\n",
       "    </tr>\n",
       "    <tr>\n",
       "      <th>638</th>\n",
       "      <td>1</td>\n",
       "      <td>1</td>\n",
       "      <td>Mlle. Emma Sagesser</td>\n",
       "      <td>female</td>\n",
       "      <td>24.0</td>\n",
       "      <td>0</td>\n",
       "      <td>0</td>\n",
       "      <td>69.30</td>\n",
       "    </tr>\n",
       "    <tr>\n",
       "      <th>788</th>\n",
       "      <td>0</td>\n",
       "      <td>3</td>\n",
       "      <td>Miss. Stella Anna Sage</td>\n",
       "      <td>female</td>\n",
       "      <td>21.0</td>\n",
       "      <td>8</td>\n",
       "      <td>2</td>\n",
       "      <td>69.55</td>\n",
       "    </tr>\n",
       "    <tr>\n",
       "      <th>842</th>\n",
       "      <td>0</td>\n",
       "      <td>3</td>\n",
       "      <td>Mr. Douglas Bullen Sage</td>\n",
       "      <td>male</td>\n",
       "      <td>18.0</td>\n",
       "      <td>8</td>\n",
       "      <td>2</td>\n",
       "      <td>69.55</td>\n",
       "    </tr>\n",
       "    <tr>\n",
       "      <th>859</th>\n",
       "      <td>0</td>\n",
       "      <td>3</td>\n",
       "      <td>Miss. Dorothy Edith Sage</td>\n",
       "      <td>female</td>\n",
       "      <td>14.0</td>\n",
       "      <td>8</td>\n",
       "      <td>2</td>\n",
       "      <td>69.55</td>\n",
       "    </tr>\n",
       "  </tbody>\n",
       "</table>\n",
       "</div>"
      ],
      "text/plain": [
       "     Survived  Pclass                         Name     Sex   Age  \\\n",
       "158         0       3    Master. Thomas Henry Sage    male   5.0   \n",
       "179         0       3  Miss. Constance Gladys Sage  female   8.0   \n",
       "200         0       3           Mr. Frederick Sage    male  17.0   \n",
       "322         0       3      Mr. George John Jr Sage    male  20.0   \n",
       "638         1       1          Mlle. Emma Sagesser  female  24.0   \n",
       "788         0       3       Miss. Stella Anna Sage  female  21.0   \n",
       "842         0       3      Mr. Douglas Bullen Sage    male  18.0   \n",
       "859         0       3     Miss. Dorothy Edith Sage  female  14.0   \n",
       "\n",
       "     Siblings/Spouses Aboard  Parents/Children Aboard   Fare  \n",
       "158                        8                        2  69.55  \n",
       "179                        8                        2  69.55  \n",
       "200                        8                        2  69.55  \n",
       "322                        8                        2  69.55  \n",
       "638                        0                        0  69.30  \n",
       "788                        8                        2  69.55  \n",
       "842                        8                        2  69.55  \n",
       "859                        8                        2  69.55  "
      ]
     },
     "execution_count": 16,
     "metadata": {},
     "output_type": "execute_result"
    }
   ],
   "source": [
    "df.loc[df.loc[:, 'Name'].str.contains('Sage')]"
   ]
  },
  {
   "cell_type": "markdown",
   "metadata": {
    "id": "b1fWiSPou6Gn"
   },
   "source": [
    "\n",
    "Notice that passing 'Sage' as an argument has also returned the name 'Sagesser' above. To remove this entry we can combine booleans and the `~` character to return rows that contain Sage but do not contain 'Sagesser'."
   ]
  },
  {
   "cell_type": "code",
   "execution_count": 17,
   "metadata": {
    "colab": {
     "base_uri": "https://localhost:8080/",
     "height": 257
    },
    "id": "ONzwNr8YmGuk",
    "outputId": "6a45daa5-04be-4f3c-9115-9be0851d9771"
   },
   "outputs": [
    {
     "data": {
      "text/html": [
       "<div>\n",
       "<style scoped>\n",
       "    .dataframe tbody tr th:only-of-type {\n",
       "        vertical-align: middle;\n",
       "    }\n",
       "\n",
       "    .dataframe tbody tr th {\n",
       "        vertical-align: top;\n",
       "    }\n",
       "\n",
       "    .dataframe thead th {\n",
       "        text-align: right;\n",
       "    }\n",
       "</style>\n",
       "<table border=\"1\" class=\"dataframe\">\n",
       "  <thead>\n",
       "    <tr style=\"text-align: right;\">\n",
       "      <th></th>\n",
       "      <th>Survived</th>\n",
       "      <th>Pclass</th>\n",
       "      <th>Name</th>\n",
       "      <th>Sex</th>\n",
       "      <th>Age</th>\n",
       "      <th>Siblings/Spouses Aboard</th>\n",
       "      <th>Parents/Children Aboard</th>\n",
       "      <th>Fare</th>\n",
       "    </tr>\n",
       "  </thead>\n",
       "  <tbody>\n",
       "    <tr>\n",
       "      <th>158</th>\n",
       "      <td>0</td>\n",
       "      <td>3</td>\n",
       "      <td>Master. Thomas Henry Sage</td>\n",
       "      <td>male</td>\n",
       "      <td>5.0</td>\n",
       "      <td>8</td>\n",
       "      <td>2</td>\n",
       "      <td>69.55</td>\n",
       "    </tr>\n",
       "    <tr>\n",
       "      <th>179</th>\n",
       "      <td>0</td>\n",
       "      <td>3</td>\n",
       "      <td>Miss. Constance Gladys Sage</td>\n",
       "      <td>female</td>\n",
       "      <td>8.0</td>\n",
       "      <td>8</td>\n",
       "      <td>2</td>\n",
       "      <td>69.55</td>\n",
       "    </tr>\n",
       "    <tr>\n",
       "      <th>200</th>\n",
       "      <td>0</td>\n",
       "      <td>3</td>\n",
       "      <td>Mr. Frederick Sage</td>\n",
       "      <td>male</td>\n",
       "      <td>17.0</td>\n",
       "      <td>8</td>\n",
       "      <td>2</td>\n",
       "      <td>69.55</td>\n",
       "    </tr>\n",
       "    <tr>\n",
       "      <th>322</th>\n",
       "      <td>0</td>\n",
       "      <td>3</td>\n",
       "      <td>Mr. George John Jr Sage</td>\n",
       "      <td>male</td>\n",
       "      <td>20.0</td>\n",
       "      <td>8</td>\n",
       "      <td>2</td>\n",
       "      <td>69.55</td>\n",
       "    </tr>\n",
       "    <tr>\n",
       "      <th>788</th>\n",
       "      <td>0</td>\n",
       "      <td>3</td>\n",
       "      <td>Miss. Stella Anna Sage</td>\n",
       "      <td>female</td>\n",
       "      <td>21.0</td>\n",
       "      <td>8</td>\n",
       "      <td>2</td>\n",
       "      <td>69.55</td>\n",
       "    </tr>\n",
       "    <tr>\n",
       "      <th>842</th>\n",
       "      <td>0</td>\n",
       "      <td>3</td>\n",
       "      <td>Mr. Douglas Bullen Sage</td>\n",
       "      <td>male</td>\n",
       "      <td>18.0</td>\n",
       "      <td>8</td>\n",
       "      <td>2</td>\n",
       "      <td>69.55</td>\n",
       "    </tr>\n",
       "    <tr>\n",
       "      <th>859</th>\n",
       "      <td>0</td>\n",
       "      <td>3</td>\n",
       "      <td>Miss. Dorothy Edith Sage</td>\n",
       "      <td>female</td>\n",
       "      <td>14.0</td>\n",
       "      <td>8</td>\n",
       "      <td>2</td>\n",
       "      <td>69.55</td>\n",
       "    </tr>\n",
       "  </tbody>\n",
       "</table>\n",
       "</div>"
      ],
      "text/plain": [
       "     Survived  Pclass                         Name     Sex   Age  \\\n",
       "158         0       3    Master. Thomas Henry Sage    male   5.0   \n",
       "179         0       3  Miss. Constance Gladys Sage  female   8.0   \n",
       "200         0       3           Mr. Frederick Sage    male  17.0   \n",
       "322         0       3      Mr. George John Jr Sage    male  20.0   \n",
       "788         0       3       Miss. Stella Anna Sage  female  21.0   \n",
       "842         0       3      Mr. Douglas Bullen Sage    male  18.0   \n",
       "859         0       3     Miss. Dorothy Edith Sage  female  14.0   \n",
       "\n",
       "     Siblings/Spouses Aboard  Parents/Children Aboard   Fare  \n",
       "158                        8                        2  69.55  \n",
       "179                        8                        2  69.55  \n",
       "200                        8                        2  69.55  \n",
       "322                        8                        2  69.55  \n",
       "788                        8                        2  69.55  \n",
       "842                        8                        2  69.55  \n",
       "859                        8                        2  69.55  "
      ]
     },
     "execution_count": 17,
     "metadata": {},
     "output_type": "execute_result"
    }
   ],
   "source": [
    "df.loc[df.loc[:, 'Name'].str.contains('Sage') & \n",
    "       ~df.loc[:, 'Name'].str.contains('Sagesser')]"
   ]
  }
 ],
 "metadata": {
  "colab": {
   "collapsed_sections": [],
   "name": "07.4 Dataframes - Boolean Combination and Negation.ipynb",
   "provenance": [],
   "toc_visible": true
  },
  "kernelspec": {
   "display_name": "Python 3 (ipykernel)",
   "language": "python",
   "name": "python3"
  },
  "language_info": {
   "codemirror_mode": {
    "name": "ipython",
    "version": 3
   },
   "file_extension": ".py",
   "mimetype": "text/x-python",
   "name": "python",
   "nbconvert_exporter": "python",
   "pygments_lexer": "ipython3",
   "version": "3.9.7"
  }
 },
 "nbformat": 4,
 "nbformat_minor": 4
}
