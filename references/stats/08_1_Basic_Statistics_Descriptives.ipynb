{
 "cells": [
  {
   "cell_type": "markdown",
   "metadata": {
    "id": "P3n7OMz8Jjad"
   },
   "source": [
    "# Descriptive Statistics\n"
   ]
  },
  {
   "cell_type": "markdown",
   "metadata": {
    "id": "0NR2lUvX7Njj"
   },
   "source": [
    "## Introduction\n",
    "\n",
    "We are going to be reviewing some basic statistics. Many of you have had an introduction to basic statistics before so much of this is likely going to be review. However, we are going to be writing and testing functions to calculate different statistics. This will help you think a little more in depth about statistics while we also practice some of the coding skills we've learned.\n",
    "\n",
    "Statistics are handy when you have many values to consider. If you have very few values (let's say three) you usually won't need statistics. You can think pretty well about three things at a time. But if we have lots of values, too many to hold in your head at the same time, statistics provide us a tool for thinking about those values as a group."
   ]
  },
  {
   "cell_type": "markdown",
   "metadata": {
    "id": "W0wLEgDcsT6u"
   },
   "source": [
    "## Measures of Central Tendency\n",
    "A statistics that is used to describe a group of values is sometimes called a ['descriptive statistic'](https://en.wikipedia.org/wiki/Descriptive_statistics). Here we consider three ways we can describe the 'middle' or 'center' of a group of values. These measures, like the numeric mean, are sometimes known as measures of central tendency."
   ]
  },
  {
   "cell_type": "markdown",
   "metadata": {
    "id": "ZIo5EKj5UPrC"
   },
   "source": [
    "### Mean\n",
    "You probably have the most experience with the 'average' or 'mean' (aka the arithmetic mean). We tend to think of the average as the middle of a group of values, but that's not always true. Sometimes the mean value in a group of data may not be anywhere close to what we are thinking of when we say middle. Take for example the following set of values `[1, 2, 3, 4, 10000]`  "
   ]
  },
  {
   "cell_type": "code",
   "execution_count": null,
   "metadata": {
    "colab": {
     "base_uri": "https://localhost:8080/"
    },
    "id": "N8DdbPtI74HF",
    "outputId": "b973b4cc-19e6-443a-c80e-8e87e9fef59c"
   },
   "outputs": [
    {
     "data": {
      "text/plain": [
       "1431.0"
      ]
     },
     "execution_count": 1,
     "metadata": {
      "tags": []
     },
     "output_type": "execute_result"
    }
   ],
   "source": [
    "# imports\n",
    "import pandas as pd\n",
    "import numpy as np\n",
    "\n",
    "# create example series\n",
    "example_values = pd.Series([1, 2, 2, 3, 4, 5, 10000])\n",
    "\n",
    "# compute mean value\n",
    "example_values.mean()"
   ]
  },
  {
   "cell_type": "markdown",
   "metadata": {
    "id": "y7DHDrCIVlz_"
   },
   "source": [
    "In the case above, the mean value is 1431. Looking at the actual values in the series, however, and you might start to get a sense of how the mean can sometimes be misleading with regard to describing the middle of a bunch of values.\n",
    "\n",
    "The Pandas method `.mean()` can be called on either a series or a dataframe. When called on a dataframe, you must specify whether you want the mean calculated across rows or across columns:\n",
    "\n",
    "* axis=0 means “operate down the rows,”\n",
    "producing one result per column. In other words, df.mean(axis=0) calculates the mean of each column by aggregating over all rows.\n",
    "* axis=1 means “operate across the columns,” producing one result per row. In other words, df.mean(axis=1) calculates the mean of each row by aggregating over all columns.\n",
    "\n",
    "Unlike some other Python libraries with their own mean functions (like numpy), the Pandas `.mean()` function will, by default, skip over any missing values."
   ]
  },
  {
   "cell_type": "markdown",
   "metadata": {
    "id": "FVsqqc4K8Was"
   },
   "source": [
    "### Median\n",
    "The average of the values in series listed in the previous example is very large relative to most of the number in the list. If you didn't look at the values, and you only knew that average, you might wind up with a very misleading idea about the rest of the values in the group. So to complement the mean, we have a few other measures of central tendency to help us get a better handle on the middle of the group of values.\n",
    "\n",
    "If we count values starting at both sides of the list of values until we arrive at the middle value, we have found the median."
   ]
  },
  {
   "cell_type": "code",
   "execution_count": null,
   "metadata": {
    "colab": {
     "base_uri": "https://localhost:8080/"
    },
    "id": "I-G99WBD9F19",
    "outputId": "dc12c8e2-0f43-42ac-e27f-06d9117ac15f"
   },
   "outputs": [
    {
     "name": "stdout",
     "output_type": "stream",
     "text": [
      "Series Values: [1, 2, 2, 3, 4, 5, 10000]\n",
      "Series Mean: 1431.0\n",
      "Series Median: 3.0\n"
     ]
    }
   ],
   "source": [
    "# print values, mean, and median\n",
    "print(f'Series Values: {example_values.to_list()}')\n",
    "print(f'Series Mean: {example_values.mean()}')\n",
    "print(f'Series Median: {example_values.median()}')"
   ]
  },
  {
   "cell_type": "markdown",
   "metadata": {
    "id": "8d_AUvUP9z2U"
   },
   "source": [
    "Since there is an odd number of values in the list, the median is pretty straight foward. If there are an even number of values, the 'middle' falls between two values and the median is the average of those two values."
   ]
  },
  {
   "cell_type": "code",
   "execution_count": null,
   "metadata": {
    "colab": {
     "base_uri": "https://localhost:8080/"
    },
    "id": "al291rP2-Ocb",
    "outputId": "3a3b907b-9b93-4209-9289-c9a8b3554582"
   },
   "outputs": [
    {
     "name": "stdout",
     "output_type": "stream",
     "text": [
      "Series Values: [1, 2, 2, 3, 4, 5, 6, 10000]\n",
      "Series Mean:   1252.875\n",
      "Series Median: 3.5\n"
     ]
    }
   ],
   "source": [
    "# create series with an even number of values\n",
    "even_example_values = pd.Series([1, 2, 2, 3, 4, 5, 6, 10000])\n",
    "\n",
    "# print values, mean, and median\n",
    "print(f'Series Values: {even_example_values.to_list()}')\n",
    "print(f'Series Mean:   {even_example_values.mean()}')\n",
    "print(f'Series Median: {even_example_values.median()}')"
   ]
  },
  {
   "cell_type": "markdown",
   "metadata": {
    "id": "bdD6tFfL-g0f"
   },
   "source": [
    "### Mode\n",
    "The final measure of central tendency we will cover is the mode. This is the single value that occurred most frequently."
   ]
  },
  {
   "cell_type": "code",
   "execution_count": null,
   "metadata": {
    "colab": {
     "base_uri": "https://localhost:8080/"
    },
    "id": "ck14ZbpJ-c-q",
    "outputId": "d56b45fc-ea97-4cdc-c940-a56121ca702c"
   },
   "outputs": [
    {
     "data": {
      "text/plain": [
       "0    2\n",
       "dtype: int64"
      ]
     },
     "execution_count": 4,
     "metadata": {
      "tags": []
     },
     "output_type": "execute_result"
    }
   ],
   "source": [
    "# show mode\n",
    "example_values.mode()"
   ]
  },
  {
   "cell_type": "markdown",
   "metadata": {
    "id": "Isl7jM_P-w7q"
   },
   "source": [
    "Notice how the Pandas `.mode()` method returned a series with a single value in it rather than just a single value like the earlier methods. Any guesses why? Think about it for a minute, and then run the cell below."
   ]
  },
  {
   "cell_type": "code",
   "execution_count": null,
   "metadata": {
    "colab": {
     "base_uri": "https://localhost:8080/"
    },
    "id": "tGtFoBAy_F5r",
    "outputId": "f3086be2-70e4-4169-8fc2-ab8ff552dbe6"
   },
   "outputs": [
    {
     "data": {
      "text/plain": [
       "0        2\n",
       "1        3\n",
       "2    10000\n",
       "dtype: int64"
      ]
     },
     "execution_count": 5,
     "metadata": {
      "tags": []
     },
     "output_type": "execute_result"
    }
   ],
   "source": [
    "# make series with multiple modes\n",
    "mode_example_values = pd.Series([1, 2, 2, 3, 3, 4, 5, 6, 10000, 10000])\n",
    "\n",
    "# show mode\n",
    "mode_example_values.mode()"
   ]
  },
  {
   "cell_type": "markdown",
   "metadata": {
    "id": "1JeezzRZ_SjR"
   },
   "source": [
    "If there are multiple modal values, all are modes and are returned as a series. What if no value occurs more than once? Then every value is a mode and they all are returned as series."
   ]
  },
  {
   "cell_type": "code",
   "execution_count": null,
   "metadata": {
    "colab": {
     "base_uri": "https://localhost:8080/"
    },
    "id": "wYjq_gLO_iAp",
    "outputId": "2df5b545-80dc-4c57-be7a-6b13509039fe"
   },
   "outputs": [
    {
     "data": {
      "text/plain": [
       "0        1\n",
       "1        2\n",
       "2        3\n",
       "3        4\n",
       "4        5\n",
       "5        6\n",
       "6    10000\n",
       "dtype: int64"
      ]
     },
     "execution_count": 6,
     "metadata": {
      "tags": []
     },
     "output_type": "execute_result"
    }
   ],
   "source": [
    "# make series with no repeated values\n",
    "mode_example_values2 = pd.Series([1, 2, 3, 4, 5, 6, 10000])\n",
    "\n",
    "# show mode\n",
    "mode_example_values2.mode()"
   ]
  },
  {
   "cell_type": "markdown",
   "metadata": {
    "id": "M7EwIGAs6HvF"
   },
   "source": [
    "As with `.mean()`, and `.median()`, Pandas's `.mode()` function will, by default drop any missing values before it performs calculations."
   ]
  },
  {
   "cell_type": "markdown",
   "metadata": {
    "id": "r-rCtGik7Nj4"
   },
   "source": [
    "## Other Basic Descriptive Statistics\n",
    "Besides mean, median, and mode, we also often want to know the minimum, maximum, and count (total number of values) in a group of data.\n"
   ]
  },
  {
   "cell_type": "code",
   "execution_count": null,
   "metadata": {
    "colab": {
     "base_uri": "https://localhost:8080/"
    },
    "id": "oW31nIpN7Nj5",
    "outputId": "a8134052-66c5-4300-8cc1-d32219f17a6e"
   },
   "outputs": [
    {
     "name": "stdout",
     "output_type": "stream",
     "text": [
      "Series Values: [1.0, 2.0, 2.0, 3.0, 4.0, 5.0, 6.0, 10000.0, nan]\n",
      "Series Mean:   1252.875\n",
      "Series Median: 3.5\n",
      "Series Mode:   [2.0]\n",
      "Series Min:    1.0\n",
      "Series Max:    10000.0\n",
      "Series Count:  8\n",
      "Series Length  9\n"
     ]
    }
   ],
   "source": [
    "# create even example series\n",
    "even_example_values2 = pd.Series([1, 2, 2, 3, 4, 5, 6, 10000, np.NaN])\n",
    "\n",
    "# print various descriptive statistics\n",
    "print(f'Series Values: {even_example_values2.to_list()}')\n",
    "print(f'Series Mean:   {even_example_values2.mean()}')\n",
    "print(f'Series Median: {even_example_values2.median()}')\n",
    "print(f'Series Mode:   {even_example_values2.mode().to_list()}')\n",
    "print(f'Series Min:    {even_example_values2.min()}')\n",
    "print(f'Series Max:    {even_example_values2.max()}')\n",
    "print(f'Series Count:  {even_example_values2.count()}')\n",
    "print(f'Series Length  {len(even_example_values2)}')"
   ]
  },
  {
   "cell_type": "markdown",
   "metadata": {
    "id": "K0iASf6mCyrD"
   },
   "source": [
    "Notice that, although the series in the example above contains a missing value (np.NaN), the Pandas methods for descriptive statistics automatically disregard any missing values."
   ]
  },
  {
   "cell_type": "markdown",
   "metadata": {
    "id": "hHiKIARi7Nkk"
   },
   "source": [
    "---"
   ]
  },
  {
   "cell_type": "markdown",
   "metadata": {
    "id": "lUruPxlrssMA"
   },
   "source": [
    "## Measures of Dispersion\n",
    "\n",
    "We are going to consider three ways we can describe the spread or range of a group of values. We will look at the 'range' and 'standard deviation' descriptive statistics. Statistics of this type are sometimes called 'measures of dispersion' because they tell how 'dispersed' our data is around the middle. If there is very little dispersion almost all the values are close to the middle. If there is a lot of dispersion, many values are spread out away from the middle.\n",
    "\n",
    "For example:\n",
    "\n",
    "* `[5, 5, 5, 5, 5, 5, 5]` would have less dispersion compared to...\n",
    "* `[0, 5, 5, 5, 5, 5, 10]`\n",
    "\n",
    "The two groups of values shown above would have identical means, medians, and modes (5 in every case). They will, however, differ in their range, variance, and standard deviation."
   ]
  },
  {
   "cell_type": "markdown",
   "metadata": {
    "id": "3sosDd6-tJt9"
   },
   "source": [
    "### Range as a Descriptive Statistic\n",
    "Range statistics are commonly given as either the min and the max values (for example: `0 to 10`), or as single value that is the the result of subtracting the minimum value from the maximum value.\n",
    "\n",
    "There is no built in Pandas function for creating a range statistic. Use `.min()` and `.max()` instead, or use `.describe()`.  \n"
   ]
  },
  {
   "cell_type": "code",
   "execution_count": null,
   "metadata": {
    "colab": {
     "base_uri": "https://localhost:8080/"
    },
    "id": "WfuJoUN_tEc2",
    "outputId": "2e69275a-d564-4632-c89c-3a62eb5e6f07"
   },
   "outputs": [
    {
     "data": {
      "text/plain": [
       "count        7.00000\n",
       "mean      1431.00000\n",
       "std       3778.57407\n",
       "min          1.00000\n",
       "25%          2.00000\n",
       "50%          3.00000\n",
       "75%          4.50000\n",
       "max      10000.00000\n",
       "dtype: float64"
      ]
     },
     "execution_count": 8,
     "metadata": {
      "tags": []
     },
     "output_type": "execute_result"
    }
   ],
   "source": [
    "# using describe to look at the range of values\n",
    "example_values.describe()"
   ]
  },
  {
   "cell_type": "markdown",
   "metadata": {
    "id": "CPnwg0XstvFc"
   },
   "source": [
    "### Standard Deviation\n",
    "Range is pretty limited as a way of describing dispersion. One way you can think about the spread of your data are is by measuring the distance between any one value and the mean. If there's not much spread, those distances will be small. If there's alot of spread those distance will be big. The standard deviation is a way of quantifying that spread.\n",
    "\n",
    "The Pandas method `.std()` can be used with either a series or a dataframe to calculate the standard deviation. If applied to a dataframe, you will need to indicate if you want the calculation applied to each row (`axis = 0`) or each column (`axis = 1`)."
   ]
  },
  {
   "cell_type": "code",
   "execution_count": null,
   "metadata": {
    "colab": {
     "base_uri": "https://localhost:8080/"
    },
    "id": "tn-6rwxzvP10",
    "outputId": "4c33b875-7c6b-4c79-d11d-f924226aaced"
   },
   "outputs": [
    {
     "name": "stdout",
     "output_type": "stream",
     "text": [
      "temp1: mean = 77.5, standard deviation: 14.223220451079285\n",
      "temp2: mean = 77.5, standard deviation: 26.265947536687115\n"
     ]
    }
   ],
   "source": [
    "# create series\n",
    "temp1 = pd.Series([56, 65, 78, 86, 88, 92])\n",
    "temp2 = pd.Series([33, 65, 78, 88, 92, 109])\n",
    "\n",
    "# print mean and standard deviation\n",
    "print(f'temp1: mean = {temp1.mean()}, standard deviation: {temp1.std()}')\n",
    "print(f'temp2: mean = {temp2.mean()}, standard deviation: {temp2.std()}')"
   ]
  },
  {
   "cell_type": "markdown",
   "metadata": {
    "id": "ZBBSjDDiT9BO"
   },
   "source": [
    "### Percentiles\n",
    "\n",
    "Unfortunately, the standard deviation  can be heavily influences by outliers. Percentiles represent a different way of looking at dispersion that is less influences by outliers.\n",
    "\n",
    "For example, let's say we had a dataset representing the 'net worth' of person's named 'Bill'. We are interested in using descriptive statistics to get a sense of the data."
   ]
  },
  {
   "cell_type": "code",
   "execution_count": null,
   "metadata": {
    "colab": {
     "base_uri": "https://localhost:8080/"
    },
    "id": "My_A17GqT8NH",
    "outputId": "b4ee7660-26ec-4efe-c347-e90c6461ee4b"
   },
   "outputs": [
    {
     "name": "stdout",
     "output_type": "stream",
     "text": [
      "Mean           199652717\n",
      "Std. Dev.     4467668192\n",
      "Median:            52058\n",
      "Mode(s):           23834\n"
     ]
    }
   ],
   "source": [
    "# generates bill data for this example\n",
    "import random\n",
    "\n",
    "bill_networth = [100000000000]\n",
    "for b in range(500):\n",
    "  bill_networth.append(random.randint(1000,100000))\n",
    "\n",
    "bill_series = pd.Series(bill_networth)\n",
    "\n",
    "# descriptive stats\n",
    "print(f'Mean          {round(bill_series.mean()):>10}')\n",
    "print(f'Std. Dev.     {round(bill_series.std()):>10}')\n",
    "print(f'Median:       {round(bill_series.median()):>10}')\n",
    "\n",
    "for mode in bill_series.mode():\n",
    "  print(f'Mode(s):      {mode:>10}')"
   ]
  },
  {
   "cell_type": "markdown",
   "metadata": {
    "id": "Rrt2gErOWS4Q"
   },
   "source": [
    "The mean and standard deviation in the bill_series is quite large. These two figures are accurate, but don't help us get a good sense of the data. The problem is that we have a rather profound outlier. Bill Gates is included in our sample of Bills and his net worth is (currently) 100 Billion dollars.\n",
    "\n",
    "If we exclude the one outlier, we get a very different picture of the data.\n"
   ]
  },
  {
   "cell_type": "code",
   "execution_count": null,
   "metadata": {
    "colab": {
     "base_uri": "https://localhost:8080/"
    },
    "id": "MDpOCBm5ZvSl",
    "outputId": "161a47c0-8ce1-41e8-8c0b-b0521c0a76f0"
   },
   "outputs": [
    {
     "name": "stdout",
     "output_type": "stream",
     "text": [
      "Mean               52022\n",
      "Std. Dev.          28845\n",
      "Median:            51986\n",
      "Mode(s):           23834\n"
     ]
    }
   ],
   "source": [
    "# abbreviated bill series\n",
    "bill_series_excluding_billg = bill_series[bill_series.values < 100000000000]\n",
    "\n",
    "# descriptive stats\n",
    "print(f'Mean          {round(bill_series_excluding_billg.mean()):>10}')\n",
    "print(f'Std. Dev.     {round(bill_series_excluding_billg.std()):>10}')\n",
    "print(f'Median:       {round(bill_series_excluding_billg.median()):>10}')\n",
    "\n",
    "for mode in bill_series_excluding_billg.mode():\n",
    "  print(f'Mode(s):      {mode:>10}')"
   ]
  },
  {
   "cell_type": "markdown",
   "metadata": {
    "id": "JPO-ne4PaNRN"
   },
   "source": [
    "Recognizing and dealing with outliers is an important skill to develop, but it would be nice if our descriptive statistics could address this issue without requiring us to remove values ourselves.\n",
    "\n",
    "Percentiles essentially do this by looking at the range of a set of data after dropping some number of values from each end. Removing values on the ends of the distribution in a systematic way and then looking at the range of the remaining values, gives us a measure of dispersion that is more resistant to the influence of outliers.\n",
    "\n",
    "To find a percentile, you sort the dataset from highest to lowest. If you want the 50th percentile you would then move up the order from lowest to highest until 50% of the values were less than or equal to the current value. If you think about this for a minute, it should become clear that the 50% percentile is the same as the median. If you continue moving up through the values until 75% of the values were less than or equal to the current values, you have found the 75th percentile.\n",
    "\n",
    "A common way to measure dispersion of data using percentiles is to report the range between the 25th and the 75th percentile. This is called the interquartile range or IQR. (A quartile is 25 percentiles). The 25th percentile is sometimes called the 'lower quartile' and the 75th percentile is called the 'upper quartile'.\n",
    "\n",
    "We can use `.describe()` to look at the IQR.\n",
    "\n",
    "\n"
   ]
  },
  {
   "cell_type": "code",
   "execution_count": null,
   "metadata": {
    "colab": {
     "base_uri": "https://localhost:8080/"
    },
    "id": "Gj5wOhbCcZP1",
    "outputId": "f9caa15a-12ba-401b-93f9-52542e7d9b3c"
   },
   "outputs": [
    {
     "data": {
      "text/plain": [
       "count             501.000000\n",
       "mean        199652717.061876\n",
       "std        4467668191.986912\n",
       "min              1108.000000\n",
       "25%             27098.000000\n",
       "50%             52058.000000\n",
       "75%             76325.000000\n",
       "max      100000000000.000000\n",
       "dtype: object"
      ]
     },
     "execution_count": 15,
     "metadata": {
      "tags": []
     },
     "output_type": "execute_result"
    }
   ],
   "source": [
    "# IQR for complete bill series, ignore everything after .describe()\n",
    "bill_series.describe().apply(lambda x: format(x, 'f'))"
   ]
  },
  {
   "cell_type": "code",
   "execution_count": null,
   "metadata": {
    "colab": {
     "base_uri": "https://localhost:8080/"
    },
    "id": "bz_eq05gcgA0",
    "outputId": "c17d4176-1eb2-4db3-a37a-ee9fcd817960"
   },
   "outputs": [
    {
     "data": {
      "text/plain": [
       "count      500.000000\n",
       "mean     52022.496000\n",
       "std      28844.583718\n",
       "min       1108.000000\n",
       "25%      27037.250000\n",
       "50%      51986.500000\n",
       "75%      76131.500000\n",
       "max      99961.000000\n",
       "dtype: float64"
      ]
     },
     "execution_count": 16,
     "metadata": {
      "tags": []
     },
     "output_type": "execute_result"
    }
   ],
   "source": [
    "# IQR for bill series excluding Bill G.\n",
    "bill_series_excluding_billg.describe()"
   ]
  },
  {
   "cell_type": "markdown",
   "metadata": {
    "id": "wUECnSfwdaGE"
   },
   "source": [
    "Notice how the interquartile range as a whole, as well as the individual percentiles, are similar between the two sets of data. In the presence of large outliers, percentiles can give us a better picture of overall dispersion than the standard deviation or range can.  "
   ]
  }
 ],
 "metadata": {
  "colab": {
   "provenance": []
  },
  "kernelspec": {
   "display_name": "Python 3 (ipykernel)",
   "language": "python",
   "name": "python3"
  },
  "language_info": {
   "codemirror_mode": {
    "name": "ipython",
    "version": 3
   },
   "file_extension": ".py",
   "mimetype": "text/x-python",
   "name": "python",
   "nbconvert_exporter": "python",
   "pygments_lexer": "ipython3",
   "version": "3.9.7"
  }
 },
 "nbformat": 4,
 "nbformat_minor": 4
}
