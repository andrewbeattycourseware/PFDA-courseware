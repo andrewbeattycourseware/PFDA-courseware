{
 "cells": [
  {
   "cell_type": "markdown",
   "id": "d59690a3",
   "metadata": {},
   "source": [
    "# Pandas reading and Writing\n",
    "The main purpose of this notebook to get you to look at the pandas documenation  \n",
    "[pandas Docs](https://pandas.pydata.org/pandas-docs/stable/index.html)  \n",
    "\n",
    "#### Import the pandas\n",
    "and set the sample data directory and filename"
   ]
  },
  {
   "cell_type": "code",
   "execution_count": null,
   "id": "eb8b2602",
   "metadata": {},
   "outputs": [],
   "source": [
    "import pandas as pd"
   ]
  },
  {
   "cell_type": "code",
   "execution_count": null,
   "id": "47a486f2",
   "metadata": {},
   "outputs": [],
   "source": [
    "# just check the directory and file are there\n",
    "!dir \"../data\""
   ]
  },
  {
   "cell_type": "code",
   "execution_count": null,
   "id": "8eddaa87",
   "metadata": {},
   "outputs": [],
   "source": [
    "# up one levels to topic03 and then down into data\n",
    "datadir = \"../data/\"\n",
    "filename=\"people-100.csv\""
   ]
  },
  {
   "cell_type": "markdown",
   "id": "59c4026a",
   "metadata": {},
   "source": [
    "#### Read in the csv file\n",
    "<code>df = pd.read_csv(file)</code>"
   ]
  },
  {
   "cell_type": "code",
   "execution_count": null,
   "id": "e2ddf74a",
   "metadata": {},
   "outputs": [],
   "source": [
    "df= pd.read_csv(datadir+filename)"
   ]
  },
  {
   "cell_type": "markdown",
   "id": "ed77b9ec",
   "metadata": {},
   "source": [
    "check what you got using \n",
    "<code>df.head()</code>\n",
    "<code>df.info()</code>\n"
   ]
  },
  {
   "cell_type": "code",
   "execution_count": null,
   "id": "059daaac",
   "metadata": {
    "scrolled": true
   },
   "outputs": [],
   "source": [
    "df.head()"
   ]
  },
  {
   "cell_type": "code",
   "execution_count": null,
   "id": "92284fa0",
   "metadata": {},
   "outputs": [],
   "source": [
    "df.info()"
   ]
  },
  {
   "cell_type": "markdown",
   "id": "009cfa80",
   "metadata": {},
   "source": [
    "### Reading in dates\n",
    "mmmm! I would like the Date of birth to be a date object  \n",
    "use\n",
    "<code>pd.read_csv(file, parse_dates=[colnum])</code>"
   ]
  },
  {
   "cell_type": "code",
   "execution_count": null,
   "id": "c4a30864",
   "metadata": {},
   "outputs": [],
   "source": [
    "df = pd.read_csv(datadir+filename, parse_dates=['Date of birth'])\n",
    "df.info()"
   ]
  },
  {
   "cell_type": "markdown",
   "id": "33031994",
   "metadata": {},
   "source": [
    "### While I am here \n",
    "if you want to limit what columes are read in \n",
    "<code>header=[list of cols]</code>"
   ]
  },
  {
   "cell_type": "code",
   "execution_count": null,
   "id": "5d633794",
   "metadata": {},
   "outputs": [],
   "source": [
    "names_of_columns=['First Name', 'Last Name','Email','Phone', 'Date of birth']\n",
    "df = pd.read_csv(datadir+filename,  usecols=names_of_columns,)\n",
    "df.head(3)"
   ]
  },
  {
   "cell_type": "markdown",
   "id": "277c708f",
   "metadata": {},
   "source": [
    "### If there is not header row and you want to make names\n",
    "use \n",
    "<code>header</code> <code> names</code>\n",
    "use \n",
    "<code>index_col</code> to specifify the index Column"
   ]
  },
  {
   "cell_type": "code",
   "execution_count": null,
   "id": "90c6340b",
   "metadata": {},
   "outputs": [],
   "source": [
    "filename=filename=\"people-100-no-header.csv\""
   ]
  },
  {
   "cell_type": "code",
   "execution_count": null,
   "id": "71138d66",
   "metadata": {},
   "outputs": [],
   "source": [
    "df= pd.read_csv(datadir+filename)\n",
    "df.head(3)"
   ]
  },
  {
   "cell_type": "code",
   "execution_count": null,
   "id": "1b26f7f3",
   "metadata": {
    "scrolled": true
   },
   "outputs": [],
   "source": [
    "df= pd.read_csv(datadir+filename, header=None, index_col=0)\n",
    "df.head(3)"
   ]
  },
  {
   "cell_type": "code",
   "execution_count": null,
   "id": "4ec4d302",
   "metadata": {
    "scrolled": true
   },
   "outputs": [],
   "source": [
    "names=['index','id','firstname','lastname','sex','email','phone','DOB','occupation']\n",
    "df= pd.read_csv(datadir+filename, header=None,index_col=0,names=names, parse_dates=['DOB'])\n",
    "df.head(3)\n",
    "#df.info()"
   ]
  },
  {
   "cell_type": "markdown",
   "id": "40412980",
   "metadata": {},
   "source": [
    "### Reading from https or even S3 buckets\n",
    "you can read files directly from the cloud into a Data Frame"
   ]
  },
  {
   "cell_type": "code",
   "execution_count": null,
   "id": "9bcfbe61",
   "metadata": {},
   "outputs": [],
   "source": [
    "df = pd.read_csv(\"https://drive.google.com/uc?id=1zO8ekHWx9U7mrbx_0Hoxxu6od7uxJqWw&export=download\")\n",
    "df.head(3)"
   ]
  },
  {
   "cell_type": "markdown",
   "id": "9670de23",
   "metadata": {},
   "source": [
    "Or even an S3 bucket\n",
    "I had to <code>pip install s3fs</code> on my machine for this to work"
   ]
  },
  {
   "cell_type": "code",
   "execution_count": null,
   "id": "3103cd36",
   "metadata": {},
   "outputs": [],
   "source": [
    "# It can take a while to find a file you want\n",
    "# this file contains weather info for phoenix in 2020\n",
    "remote_file = \"s3://noaa-gsod-pds/2020/72278023183.csv\"\n",
    "\n",
    "df = pd.read_csv( remote_file, storage_options={\"anon\": True})\n",
    "df.head(3)"
   ]
  },
  {
   "cell_type": "markdown",
   "id": "c00ce3a8",
   "metadata": {},
   "source": [
    "## Writing data\n",
    "\n",
    "if I do not know a data set I like to write it out to an Excel file so that I can inspect it"
   ]
  },
  {
   "cell_type": "code",
   "execution_count": null,
   "id": "d587122c",
   "metadata": {},
   "outputs": [],
   "source": [
    "workbookFileName = 's3Data.xlsx'\n",
    "df.to_excel(workbookFileName, sheet_name='phoenix', index=False)"
   ]
  },
  {
   "cell_type": "markdown",
   "id": "35a1ed41",
   "metadata": {},
   "source": [
    "More information on the PANDAS documenation\n",
    "https://pandas.pydata.org/pandas-docs/stable/user_guide/io.html#io-excel-writer"
   ]
  },
  {
   "cell_type": "code",
   "execution_count": null,
   "id": "0e0e1934",
   "metadata": {},
   "outputs": [],
   "source": []
  }
 ],
 "metadata": {
  "kernelspec": {
   "display_name": "Python 3 (ipykernel)",
   "language": "python",
   "name": "python3"
  },
  "language_info": {
   "codemirror_mode": {
    "name": "ipython",
    "version": 3
   },
   "file_extension": ".py",
   "mimetype": "text/x-python",
   "name": "python",
   "nbconvert_exporter": "python",
   "pygments_lexer": "ipython3",
   "version": "3.9.7"
  }
 },
 "nbformat": 4,
 "nbformat_minor": 5
}
