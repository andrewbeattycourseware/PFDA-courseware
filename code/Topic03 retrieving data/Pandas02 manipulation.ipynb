{
 "cells": [
  {
   "cell_type": "markdown",
   "id": "d59690a3",
   "metadata": {},
   "source": [
    "# Pandas Manipulating Data\n",
    "Most of this notebook came from   \n",
    "[the pandas Documentation](https://pandas.pydata.org/pandas-docs/stable/index.html)   \n",
    "and  \n",
    "(Real Python)[https://realpython.com/pandas-dataframe/#accessing-and-modifying-data]\n",
    "\n",
    "\n",
    "#### Import the pandas\n",
    "and set the sample data directory and filename"
   ]
  },
  {
   "cell_type": "code",
   "execution_count": null,
   "id": "eb8b2602",
   "metadata": {},
   "outputs": [],
   "source": [
    "import pandas as pd"
   ]
  },
  {
   "cell_type": "code",
   "execution_count": null,
   "id": "47a486f2",
   "metadata": {},
   "outputs": [],
   "source": [
    "# just check the directory and file are there\n",
    "# !dir \"../data\""
   ]
  },
  {
   "cell_type": "code",
   "execution_count": null,
   "id": "8eddaa87",
   "metadata": {},
   "outputs": [],
   "source": [
    "# up one levels to topic03 and then down into data\n",
    "datadir = \"../data/\"\n",
    "people_filename=datadir+\"people-100.csv\"\n",
    "timetable_filename = datadir+\"timetable.tsv\""
   ]
  },
  {
   "cell_type": "markdown",
   "id": "59c4026a",
   "metadata": {},
   "source": [
    "#### the timetable data\n",
    "this is real anolymised data is a tab seperated format\n",
    "<code>df = pd.read_csv(file, sep=\"\\t\")</code>\n",
    "because it is real it has missing data and some data is that is in different formats"
   ]
  },
  {
   "cell_type": "code",
   "execution_count": null,
   "id": "e2ddf74a",
   "metadata": {},
   "outputs": [],
   "source": [
    "df= pd.read_csv(timetable_filename, sep=\"\\t\")\n",
    "df.head(3)"
   ]
  },
  {
   "cell_type": "markdown",
   "id": "ed77b9ec",
   "metadata": {},
   "source": [
    "#### selecting particular rows\n",
    "<code>df.iloc[]</code> <code>df.loc[]</code>\n",
    "\n",
    "\n",
    "in these examples loc and iloc return the same\n"
   ]
  },
  {
   "cell_type": "code",
   "execution_count": null,
   "id": "059daaac",
   "metadata": {
    "scrolled": true
   },
   "outputs": [],
   "source": [
    "#df.iloc[40:50]  # returns rows 40 to 50\n",
    "#df.loc[[42,44]]  # returns rows 42 and 44\n",
    "df.loc[[42,44],['Staff (delimited)']]  ## only return the staff column"
   ]
  },
  {
   "cell_type": "markdown",
   "id": "abbfc62f",
   "metadata": {},
   "source": [
    "##### a more complicated example  \n",
    "Find all the rows which have mulitple staff"
   ]
  },
  {
   "cell_type": "code",
   "execution_count": null,
   "id": "92284fa0",
   "metadata": {},
   "outputs": [],
   "source": [
    "df[df['Staff (delimited)'].str.contains('/')]\n",
    "#cleandf= df.fillna(value=' ')\n",
    "#cleandf[cleandf['Staff (delimited)'].str.contains('/')]"
   ]
  },
  {
   "cell_type": "markdown",
   "id": "009cfa80",
   "metadata": {},
   "source": [
    "#### drop specific rows\n",
    "\n",
    "<code>df.drop()</code>"
   ]
  },
  {
   "cell_type": "code",
   "execution_count": null,
   "id": "c4a30864",
   "metadata": {},
   "outputs": [],
   "source": [
    "df.drop([1,3])\n",
    "df.head(4)"
   ]
  },
  {
   "cell_type": "markdown",
   "id": "33031994",
   "metadata": {},
   "source": [
    "Hold on that did not drop anything\n",
    "<code>inplace</code> parameter\n",
    "of make a dataframe equal it.\n"
   ]
  },
  {
   "cell_type": "code",
   "execution_count": null,
   "id": "5d633794",
   "metadata": {
    "scrolled": true
   },
   "outputs": [],
   "source": [
    "df.drop([1,3], inplace=True)\n",
    "#df= df.drop([1,3])\n",
    "df.head(4)"
   ]
  },
  {
   "cell_type": "code",
   "execution_count": null,
   "id": "805fd5bf",
   "metadata": {
    "scrolled": true
   },
   "outputs": [],
   "source": [
    "df.iloc[[2,4]]"
   ]
  },
  {
   "cell_type": "code",
   "execution_count": null,
   "id": "0849ca34",
   "metadata": {},
   "outputs": [],
   "source": [
    "df.loc[[2,4]]"
   ]
  },
  {
   "cell_type": "markdown",
   "id": "277c708f",
   "metadata": {},
   "source": [
    "### make new columns\n",
    "any thing you can do with numpy you can do with PANDAS series\n",
    "eg multiply two columns"
   ]
  },
  {
   "cell_type": "code",
   "execution_count": null,
   "id": "90c6340b",
   "metadata": {},
   "outputs": [],
   "source": [
    "df['total_hours'] = df['Duration'] * df['Number of Weeks']\n",
    "df.head(3)"
   ]
  },
  {
   "cell_type": "code",
   "execution_count": null,
   "id": "71138d66",
   "metadata": {
    "scrolled": true
   },
   "outputs": [],
   "source": [
    "people_df = pd.read_csv(people_filename)\n",
    "people_df.head(3)"
   ]
  },
  {
   "cell_type": "markdown",
   "id": "ec7daad8",
   "metadata": {},
   "source": [
    "to get the email domains"
   ]
  },
  {
   "cell_type": "code",
   "execution_count": null,
   "id": "2e274d27",
   "metadata": {
    "scrolled": false
   },
   "outputs": [],
   "source": [
    "people_df['domain'] = people_df['Email'].str.split('@').str[1]\n",
    "people_df.head(3)"
   ]
  },
  {
   "cell_type": "markdown",
   "id": "649822f5",
   "metadata": {},
   "source": [
    "How would you make a pie chart for the email domains"
   ]
  },
  {
   "cell_type": "code",
   "execution_count": null,
   "id": "65368152",
   "metadata": {},
   "outputs": [],
   "source": []
  }
 ],
 "metadata": {
  "kernelspec": {
   "display_name": "Python 3 (ipykernel)",
   "language": "python",
   "name": "python3"
  },
  "language_info": {
   "codemirror_mode": {
    "name": "ipython",
    "version": 3
   },
   "file_extension": ".py",
   "mimetype": "text/x-python",
   "name": "python",
   "nbconvert_exporter": "python",
   "pygments_lexer": "ipython3",
   "version": "3.9.7"
  }
 },
 "nbformat": 4,
 "nbformat_minor": 5
}
