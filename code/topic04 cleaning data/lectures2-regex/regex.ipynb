{
 "cells": [
  {
   "cell_type": "markdown",
   "metadata": {},
   "source": [
    "# Regular expressions in python\n",
    "\n"
   ]
  },
  {
   "cell_type": "markdown",
   "metadata": {},
   "source": [
    "Sample strings to for the examples\n"
   ]
  },
  {
   "cell_type": "code",
   "execution_count": 13,
   "metadata": {},
   "outputs": [],
   "source": [
    "sentence = \"The Quick Brown Fox Jumps Over The Lazy Dog\"\n",
    "paragraph = \"\"\"Once apon a\n",
    "            time there lived\n",
    "            3 bears and 1 girl \n",
    "            They all owed the bank $1000. \n",
    "            Ouch!\"\"\"\n",
    "website = \"www.medium.com\"\n",
    "\n",
    "special_characters = \"[\\^$.|?*+()\""
   ]
  },
  {
   "cell_type": "markdown",
   "metadata": {},
   "source": [
    "### Built in string functions we have already used\n",
    "\n",
    "| Function | Explanation |\n",
    "|:---|:---|\n",
    "| `string.split(char)`  | Returns a list of strings that were delimited by 'char'  |\n",
    "| `string.find(other_string)`  | Returns the index of the other string |\n",
    "| `string[index1:index2:freq]`  | split into substrings at location (we coverd this in PANDS)  |\n",
    "| `string.isdecimal()`   |\tReturns True if all characters in the string are decimals  |\n",
    "  \n",
    "Of course there are lots more"
   ]
  },
  {
   "cell_type": "code",
   "execution_count": 14,
   "metadata": {},
   "outputs": [
    {
     "data": {
      "text/plain": [
       "['Once',\n",
       " 'apon',\n",
       " 'a\\n',\n",
       " '',\n",
       " '',\n",
       " '',\n",
       " '',\n",
       " '',\n",
       " '',\n",
       " '',\n",
       " '',\n",
       " '',\n",
       " '',\n",
       " '',\n",
       " 'time',\n",
       " 'there',\n",
       " 'lived\\n',\n",
       " '',\n",
       " '',\n",
       " '',\n",
       " '',\n",
       " '',\n",
       " '',\n",
       " '',\n",
       " '',\n",
       " '',\n",
       " '',\n",
       " '',\n",
       " '3',\n",
       " 'bears',\n",
       " 'and',\n",
       " '1',\n",
       " 'girl',\n",
       " '\\n',\n",
       " '',\n",
       " '',\n",
       " '',\n",
       " '',\n",
       " '',\n",
       " '',\n",
       " '',\n",
       " '',\n",
       " '',\n",
       " '',\n",
       " '',\n",
       " 'They',\n",
       " 'all',\n",
       " 'owed',\n",
       " 'the',\n",
       " 'bank',\n",
       " '$1000.',\n",
       " '\\n',\n",
       " '',\n",
       " '',\n",
       " '',\n",
       " '',\n",
       " '',\n",
       " '',\n",
       " '',\n",
       " '',\n",
       " '',\n",
       " '',\n",
       " '',\n",
       " 'Ouch!']"
      ]
     },
     "execution_count": 14,
     "metadata": {},
     "output_type": "execute_result"
    }
   ],
   "source": [
    "paragraph.split(\" \")"
   ]
  },
  {
   "cell_type": "markdown",
   "metadata": {},
   "source": [
    "\n",
    "## Python regex functions in module re\n",
    "Functions in the re module\n",
    "\n",
    "| Function | Explanation |\n",
    "|:---|:---|\n",
    "| `findall(pattern, sting)`  | Returns a list containing all matches  |\n",
    "| `search(pattern, sting)`  | Returns a Match Object if there is a match anywhere in the string  |\n",
    "| `sub(pattern, replacement, string)`  | replaces one or many matches (kinda like `sed`)  |\n",
    "\n",
    "\n",
    "\n",
    "## import the module"
   ]
  },
  {
   "cell_type": "code",
   "execution_count": 15,
   "metadata": {},
   "outputs": [],
   "source": [
    "import re"
   ]
  },
  {
   "cell_type": "markdown",
   "metadata": {},
   "source": [
    "## Matching explicit characters\n",
    "\n",
    "\n",
    "In order to match characters explicitly, all you need to do is type what you'd like to find. Similarly to `ctrl+f` on any application.\n",
    "\n"
   ]
  },
  {
   "cell_type": "code",
   "execution_count": 16,
   "metadata": {
    "scrolled": true
   },
   "outputs": [
    {
     "data": {
      "text/plain": [
       "['Quick']"
      ]
     },
     "execution_count": 16,
     "metadata": {},
     "output_type": "execute_result"
    }
   ],
   "source": [
    "pattern = \"Quick\"\n",
    "re.findall(pattern, sentence)"
   ]
  },
  {
   "cell_type": "code",
   "execution_count": 17,
   "metadata": {
    "scrolled": true
   },
   "outputs": [
    {
     "data": {
      "text/plain": [
       "[]"
      ]
     },
     "execution_count": 17,
     "metadata": {},
     "output_type": "execute_result"
    }
   ],
   "source": [
    "pattern = \"quick\"\n",
    "re.findall(pattern, sentence)"
   ]
  },
  {
   "cell_type": "code",
   "execution_count": 18,
   "metadata": {},
   "outputs": [
    {
     "data": {
      "text/plain": [
       "['Quick']"
      ]
     },
     "execution_count": 18,
     "metadata": {},
     "output_type": "execute_result"
    }
   ],
   "source": [
    "pattern = \"quick\"\n",
    "re.findall(pattern, sentence,re.IGNORECASE)"
   ]
  },
  {
   "cell_type": "markdown",
   "metadata": {},
   "source": [
    "Search a match object that says what was matched and where"
   ]
  },
  {
   "cell_type": "code",
   "execution_count": 19,
   "metadata": {},
   "outputs": [
    {
     "data": {
      "text/plain": [
       "<re.Match object; span=(55, 60), match='bears'>"
      ]
     },
     "execution_count": 19,
     "metadata": {},
     "output_type": "execute_result"
    }
   ],
   "source": [
    "pattern = \"bears\"\n",
    "re.search(pattern, paragraph)"
   ]
  },
  {
   "cell_type": "markdown",
   "metadata": {},
   "source": [
    "## Matching literal characters\n",
    "\n",
    "In order to match any literal characters ( *any character except `[\\^$.|?*+()`* ) use a backslash `\\` followed by the character ."
   ]
  },
  {
   "cell_type": "code",
   "execution_count": 20,
   "metadata": {},
   "outputs": [
    {
     "data": {
      "text/plain": [
       "['www.medium.com']"
      ]
     },
     "execution_count": 20,
     "metadata": {},
     "output_type": "execute_result"
    }
   ],
   "source": [
    "pattern =\"www\\.medium\\.com\" \n",
    "re.findall(pattern, website)"
   ]
  },
  {
   "cell_type": "markdown",
   "metadata": {},
   "source": [
    "## Matching by pattern\n",
    "There are a lot of ways we can match a pattern. Regex has its own syntax so we could pick and choose how we want our patterns to look like.\n",
    "\n",
    "### Character Classes\n",
    "| Class | Explanation |    \n",
    "|:---|:---|   \n",
    "| . | any character except newline |   \n",
    "| \\w \\d \\s | word (ie [0-9a-zA-Z], digit, whitespace |  \n",
    "| \\W \\D \\S | not word, digit, whitespace |  \n",
    "| [abc] | any of a, b, or c | \n",
    "| [^abc] | not a, b, or c |\n",
    "| [a-g] | characters between a & g | \n",
    "\n",
    "For example find the numbers in the paragragh"
   ]
  },
  {
   "cell_type": "code",
   "execution_count": 23,
   "metadata": {},
   "outputs": [
    {
     "data": {
      "text/plain": [
       "['3', '1', '1', '0', '0', '0']"
      ]
     },
     "execution_count": 23,
     "metadata": {},
     "output_type": "execute_result"
    }
   ],
   "source": [
    "pattern =\"\\d\"  \n",
    "re.findall(pattern, paragraph)"
   ]
  },
  {
   "cell_type": "markdown",
   "metadata": {},
   "source": [
    "As opposed to every word character"
   ]
  },
  {
   "cell_type": "code",
   "execution_count": 25,
   "metadata": {},
   "outputs": [
    {
     "data": {
      "text/plain": [
       "['Once',\n",
       " 'apon',\n",
       " 'a',\n",
       " 'time',\n",
       " 'there',\n",
       " 'lived',\n",
       " '3',\n",
       " 'bears',\n",
       " 'and',\n",
       " '1',\n",
       " 'girl',\n",
       " 'They',\n",
       " 'all',\n",
       " 'owed',\n",
       " 'the',\n",
       " 'bank',\n",
       " '1000',\n",
       " 'Ouch']"
      ]
     },
     "execution_count": 25,
     "metadata": {},
     "output_type": "execute_result"
    }
   ],
   "source": [
    "pattern =\"\\w+\"  \n",
    "re.findall(pattern, paragraph)"
   ]
  },
  {
   "cell_type": "markdown",
   "metadata": {},
   "source": [
    "### Anchors\n",
    "| Class | Explanation |\n",
    "|:---|:---|\n",
    "| ^abc$ | start / end of the string |\n",
    "| \\b | Word boundry (I could not get this to work with finall) |"
   ]
  },
  {
   "cell_type": "code",
   "execution_count": 26,
   "metadata": {},
   "outputs": [
    {
     "name": "stdout",
     "output_type": "stream",
     "text": [
      "['b']\n",
      "[]\n",
      "[]\n",
      "['z']\n"
     ]
    }
   ],
   "source": [
    "lowercase_alphabet = \"abcdefghijklmnopqrstuvwxyz\"\n",
    "pattern = \"b\"\n",
    "print(re.findall(pattern, lowercase_alphabet))\n",
    "pattern = \"^b\"\n",
    "print(re.findall(pattern, lowercase_alphabet))\n",
    "pattern = \"b$\"\n",
    "print(re.findall(pattern, lowercase_alphabet))\n",
    "pattern = \"z$\"\n",
    "print(re.findall(pattern, lowercase_alphabet))"
   ]
  },
  {
   "cell_type": "markdown",
   "metadata": {},
   "source": [
    "### Escaped Characters\n",
    "| Class | Explanation |\n",
    "|:---|:---|\n",
    "| \\\\. \\\\* \\\\\\ | escaped special characters |\n",
    "| \\\\t \\\\n \\\\r | tab, linefeed, carriage return |\n",
    "\n",
    "### Groups\n",
    "| Class | Explanation |\n",
    "|:---|:---|\n",
    "| (abc) | capture group |\n",
    "| \\\\1 | backreference to group #1 |\n",
    "\n",
    "### Quantifiers & Alternation\n",
    "| Class | Explanation |\n",
    "|:---|:---|\n",
    "| a* a+ a? | 0 or more, 1 or more, 0 or 1 |\n",
    "| a{5} a{2,} | exactly five, two or more |\n",
    "| a{1,3} | between one & three |\n",
    "| a+? a{2,}? | match as few as possible |\n",
    "| ab\\|cd | match ab or cd |\n",
    "> [Tables from: regexr.com](https://regexr.com/)"
   ]
  },
  {
   "cell_type": "markdown",
   "metadata": {},
   "source": [
    "### Examples\n",
    "to find the words in the sentence\n",
    "`\\w` is a word character\n",
    "`{1,}` one or more times  \n",
    "or use `+`"
   ]
  },
  {
   "cell_type": "code",
   "execution_count": 27,
   "metadata": {},
   "outputs": [
    {
     "data": {
      "text/plain": [
       "['The', 'Quick', 'Brown', 'Fox', 'Jumps', 'Over', 'The', 'Lazy', 'Dog']"
      ]
     },
     "execution_count": 27,
     "metadata": {},
     "output_type": "execute_result"
    }
   ],
   "source": [
    "re.findall(\"\\w{1,}\", sentence)"
   ]
  },
  {
   "cell_type": "code",
   "execution_count": 28,
   "metadata": {},
   "outputs": [
    {
     "data": {
      "text/plain": [
       "['The', 'Quick', 'Brown', 'Fox', 'Jumps', 'Over', 'The', 'Lazy', 'Dog']"
      ]
     },
     "execution_count": 28,
     "metadata": {},
     "output_type": "execute_result"
    }
   ],
   "source": [
    "re.findall(\"\\w+\", sentence)"
   ]
  },
  {
   "cell_type": "code",
   "execution_count": null,
   "metadata": {},
   "outputs": [],
   "source": [
    "re.findall(\"\\w+\", paragraph)"
   ]
  },
  {
   "cell_type": "markdown",
   "metadata": {},
   "source": [
    "How about the telephone numbers. To find the properly formatted ones with a hyphen"
   ]
  },
  {
   "cell_type": "code",
   "execution_count": 34,
   "metadata": {},
   "outputs": [
    {
     "data": {
      "text/plain": [
       "['123-456-7890', '234-567-8901', '345-678-9012']"
      ]
     },
     "execution_count": 34,
     "metadata": {},
     "output_type": "execute_result"
    }
   ],
   "source": [
    "phone_numbers = \"\"\"123-456-7890\n",
    "                    987.654.321 # an ip address\n",
    "                    234-567-8901\n",
    "                    654.321.987 # an ip address\n",
    "                    345-678-9012\n",
    "                    +321 654 9784 # a phone number with a .\n",
    "                    456-789-012 # badly formatted\n",
    "                    999.666.333\n",
    "                    45678   # I don't know what this is !!\n",
    "                \"\"\"\n",
    "re.findall(\"\\d{3}\\-\\d{3}\\-\\d{4}\", phone_numbers)"
   ]
  },
  {
   "cell_type": "markdown",
   "metadata": {},
   "source": [
    "or a hphen or a dot"
   ]
  },
  {
   "cell_type": "code",
   "execution_count": 38,
   "metadata": {
    "scrolled": false
   },
   "outputs": [
    {
     "data": {
      "text/plain": [
       "['123-456-7890', '234-567-8901', '345-678-9012', '+321 654 9784']"
      ]
     },
     "execution_count": 38,
     "metadata": {},
     "output_type": "execute_result"
    }
   ],
   "source": [
    "re.findall(\"\\+?\\d{3}[\\- ]\\d{3}[\\- ]\\d{4}\", phone_numbers)"
   ]
  },
  {
   "cell_type": "markdown",
   "metadata": {},
   "source": [
    "### find and replace\n",
    "You can use parts of the found pattern in the replacement,\n",
    "use `()` to set the parts you want to use  \n",
    "and `\\\\N` to include them in the replacement string eg `\\\\1`  (in other regex implementations it is $N)\n",
    "\n",
    "\n",
    "For example lets say I want to hide the word after the numbers in the paragraph ie I want to find the words that have a number (and space) before them and replace them with \"XXX\". I don't want to replace all the words.\n",
    "so I first want to find the pattern"
   ]
  },
  {
   "cell_type": "code",
   "execution_count": 39,
   "metadata": {},
   "outputs": [
    {
     "data": {
      "text/plain": [
       "['3 bears', '1 girl']"
      ]
     },
     "execution_count": 39,
     "metadata": {},
     "output_type": "execute_result"
    }
   ],
   "source": [
    "pattern = \"\\d \\w+\"\n",
    "re.findall(pattern, paragraph)"
   ]
  },
  {
   "cell_type": "markdown",
   "metadata": {},
   "source": [
    "so I want to leave the number (and space) and replace the word  \n",
    "put a bracket around what you want to include in the replacement string and \\\\N to use it"
   ]
  },
  {
   "cell_type": "code",
   "execution_count": 41,
   "metadata": {},
   "outputs": [
    {
     "name": "stdout",
     "output_type": "stream",
     "text": [
      "Once apon a\n",
      "            time there lived\n",
      "            3  XXX and 1  XXX \n",
      "            They all owed the bank $1000. \n",
      "            Ouch!\n",
      "Once apon a\n",
      "            time there lived\n",
      "            3 bears and 1 girl \n",
      "            They all owed the bank $1000. \n",
      "            Ouch!\n"
     ]
    }
   ],
   "source": [
    "pattern = \"(\\d )\\w+\"\n",
    "replacement = \"\\\\1 XXX\"\n",
    "print(re.sub(pattern, replacement, paragraph))\n",
    "print(paragraph)"
   ]
  },
  {
   "cell_type": "markdown",
   "metadata": {},
   "source": [
    "### Messing\n",
    "This returns more than just the ip addressses  \n",
    "how would I fix it to return the only the ip addresses"
   ]
  },
  {
   "cell_type": "code",
   "execution_count": null,
   "metadata": {
    "scrolled": true
   },
   "outputs": [],
   "source": [
    "re.findall(\"\\d{3}[\\-\\.]\\d{3}[\\-\\.]\\d{3}\", phone_numbers)"
   ]
  },
  {
   "cell_type": "code",
   "execution_count": null,
   "metadata": {},
   "outputs": [],
   "source": []
  },
  {
   "cell_type": "markdown",
   "metadata": {},
   "source": [
    "### Resources:\n",
    "- https://www.guru99.com/python-regular-expressions-complete-tutorial.html\n",
    "- https://www.regular-expressions.info/refcharacters.html\n",
    "- https://docs.python.org/3/library/re.html\n",
    "- https://www.dataquest.io/blog/regular-expressions-data-scientists/\n",
    "- https://www.youtube.com/watch?v=sa-TUpSx1JA\n",
    "- https://medium.com/@kennymiyasato/regular-expressions-tutorial-with-jupyter-notebooks-6d7df2429695"
   ]
  }
 ],
 "metadata": {
  "kernelspec": {
   "display_name": "Python 3 (ipykernel)",
   "language": "python",
   "name": "python3"
  },
  "language_info": {
   "codemirror_mode": {
    "name": "ipython",
    "version": 3
   },
   "file_extension": ".py",
   "mimetype": "text/x-python",
   "name": "python",
   "nbconvert_exporter": "python",
   "pygments_lexer": "ipython3",
   "version": "3.9.7"
  }
 },
 "nbformat": 4,
 "nbformat_minor": 2
}
