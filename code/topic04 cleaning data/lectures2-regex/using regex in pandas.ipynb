{
 "cells": [
  {
   "cell_type": "markdown",
   "id": "00504159",
   "metadata": {},
   "source": [
    "# Using regex in pandas\n",
    "\n",
    "set up everything\n",
    "imports and directory and file locations/names\n"
   ]
  },
  {
   "cell_type": "code",
   "execution_count": null,
   "id": "f4e77884",
   "metadata": {},
   "outputs": [],
   "source": [
    "import pandas as pd\n",
    "# import re I am not directly using the re package in any of these\n",
    "\n",
    "datadir = \"../data/\"\n",
    "people_filename=datadir+\"people-100.csv\""
   ]
  },
  {
   "cell_type": "markdown",
   "id": "33125f4f",
   "metadata": {},
   "source": [
    "### Sanity check\n",
    "Just checking that I have it"
   ]
  },
  {
   "cell_type": "code",
   "execution_count": null,
   "id": "b04acfc1",
   "metadata": {},
   "outputs": [],
   "source": [
    "people_df = pd.read_csv(people_filename)\n",
    "people_df.head(3)"
   ]
  },
  {
   "cell_type": "markdown",
   "id": "5fb92500",
   "metadata": {},
   "source": [
    "### Which method to use for the domains\n",
    "We saw already we could use split to get the domains"
   ]
  },
  {
   "cell_type": "code",
   "execution_count": null,
   "id": "f65249c1",
   "metadata": {},
   "outputs": [],
   "source": [
    "people_df['domain'] = people_df['Email'].str.split('@').str[1]\n",
    "people_df.head(3)"
   ]
  },
  {
   "cell_type": "markdown",
   "id": "abbef01a",
   "metadata": {},
   "source": [
    "Delete the column so that we can look at using regex"
   ]
  },
  {
   "cell_type": "code",
   "execution_count": null,
   "id": "70fded23",
   "metadata": {
    "scrolled": true
   },
   "outputs": [],
   "source": [
    "people_df.drop('domain', axis=1, inplace=True)\n",
    "people_df.head(3)"
   ]
  },
  {
   "cell_type": "markdown",
   "id": "f986fc59",
   "metadata": {},
   "source": [
    "You could have used regular expressions (and many different patterns would do the job)\n",
    "The string returned by str() has a `replace()` method that can take regex\n",
    "I tried this with normal strings replace method and it did not work\n"
   ]
  },
  {
   "cell_type": "code",
   "execution_count": null,
   "id": "eea12038",
   "metadata": {},
   "outputs": [],
   "source": [
    "string = \"ann has €1000, john has €234\"\n",
    "newString = string.replace(r\"\\d\", \"X\", regex=True)\n",
    "print (newString)"
   ]
  },
  {
   "cell_type": "code",
   "execution_count": null,
   "id": "87e16e7d",
   "metadata": {
    "scrolled": false
   },
   "outputs": [],
   "source": [
    "pattern = r\".*@\"\n",
    "people_df['domain'] = people_df['Email'].str.replace(pattern, '', regex=True)\n",
    "people_df.head(3)"
   ]
  },
  {
   "cell_type": "code",
   "execution_count": null,
   "id": "ea8ac403",
   "metadata": {},
   "outputs": [],
   "source": [
    "## a more precise pattern\n",
    "pattern = r\".*@([\\w\\.]+\\.\\w{2,3})\"\n",
    "people_df['domain'] = people_df['Email'].str.replace(pattern, '\\\\1', regex=True)\n",
    "people_df.head(3)"
   ]
  },
  {
   "cell_type": "markdown",
   "id": "802eea5e",
   "metadata": {},
   "source": [
    "### The phone numbers\n",
    "They are a mess of different formats, some with hyphens others dots and some have extensions.\n",
    "to clean these up lets:\n",
    "- assume that the are all phone numbers\n",
    "- put main numbers without any extensions or other characters into another Column\n",
    "- put the extenstions into a seperate column (numbers after the x\n",
    "\n",
    "#### The main numbers\n",
    "If there is an x we want the numbers before without any hyphens or dots.\n",
    "I am going to do this in a number of steps, I am sure there is a clever way of doing all this in one step\n"
   ]
  },
  {
   "cell_type": "code",
   "execution_count": null,
   "id": "5acc3e71",
   "metadata": {},
   "outputs": [],
   "source": [
    "the_extension_pattern=r\"x\\d*\"\n",
    "people_df['clean_phone'] = people_df['Phone'].str.replace(the_extension_pattern, '', regex=True)\n",
    "people_df.head(3)"
   ]
  },
  {
   "cell_type": "code",
   "execution_count": null,
   "id": "8e07e46f",
   "metadata": {
    "scrolled": true
   },
   "outputs": [],
   "source": [
    "otherchars_pattern=r\"[\\-\\. \\(\\)]*\"\n",
    "people_df['clean_phone'] = people_df['clean_phone'].str.replace(otherchars_pattern, '', regex=True)\n",
    "people_df.head(3)"
   ]
  },
  {
   "cell_type": "markdown",
   "id": "be0457af",
   "metadata": {},
   "source": [
    "###### I should have them all starting with a country code"
   ]
  },
  {
   "cell_type": "code",
   "execution_count": null,
   "id": "309abcc2",
   "metadata": {
    "scrolled": true
   },
   "outputs": [],
   "source": [
    "prefix_pattern=r\"^([^\\+0].*)\"\n",
    "people_df['clean_phone'] = people_df['clean_phone'].str.replace(prefix_pattern, '+1\\\\1', regex=True)\n",
    "people_df.head(3)"
   ]
  },
  {
   "cell_type": "markdown",
   "id": "028ce1ca",
   "metadata": {},
   "source": [
    "Finally lets replace the 00s at the start with +"
   ]
  },
  {
   "cell_type": "code",
   "execution_count": null,
   "id": "5e729dfa",
   "metadata": {
    "scrolled": true
   },
   "outputs": [],
   "source": [
    "prefix_pattern=r\"^00(.*)\"\n",
    "people_df['clean_phone'] = people_df['clean_phone'].str.replace(prefix_pattern, '+\\\\1', regex=True)\n",
    "people_df.head(3)"
   ]
  },
  {
   "cell_type": "markdown",
   "id": "f65c9099",
   "metadata": {},
   "source": [
    "#### The extensions\n",
    "copy any extensions to another column"
   ]
  },
  {
   "cell_type": "code",
   "execution_count": null,
   "id": "c18f139e",
   "metadata": {},
   "outputs": [],
   "source": [
    "extension_pattern=r\"^.*x\"\n",
    "people_df['extension'] = people_df['Phone'].str.replace(extension_pattern, '', regex=True)\n",
    "people_df.head(3)"
   ]
  },
  {
   "cell_type": "markdown",
   "id": "45c43064",
   "metadata": {},
   "source": [
    "**Arrrr Maaaan**\n",
    "This returns the whole number if there is no extension   \n",
    "We need to extract the extension `str.extract(pattern)`"
   ]
  },
  {
   "cell_type": "code",
   "execution_count": null,
   "id": "192a5161",
   "metadata": {},
   "outputs": [],
   "source": [
    "extension_pattern=r\"x(\\d+)\"\n",
    "people_df['extension'] = people_df['Phone'].str.extract(extension_pattern)\n",
    "people_df.head(3)"
   ]
  },
  {
   "cell_type": "markdown",
   "id": "1f853611",
   "metadata": {},
   "source": [
    "### Before I go\n",
    "#### filter\n",
    "You can filter rows in pandas based on a reguler expression\n",
    "eg find all the rows that have an international prefix"
   ]
  },
  {
   "cell_type": "code",
   "execution_count": null,
   "id": "e8f567a5",
   "metadata": {},
   "outputs": [],
   "source": [
    "people_df[people_df['Phone'].str.contains(r'^\\+|00')]"
   ]
  },
  {
   "cell_type": "code",
   "execution_count": null,
   "id": "33bf4d0d",
   "metadata": {},
   "outputs": [],
   "source": [
    "people_df[people_df['Phone'].str.contains(r'^\\+|^00')]"
   ]
  }
 ],
 "metadata": {
  "kernelspec": {
   "display_name": "Python 3 (ipykernel)",
   "language": "python",
   "name": "python3"
  },
  "language_info": {
   "codemirror_mode": {
    "name": "ipython",
    "version": 3
   },
   "file_extension": ".py",
   "mimetype": "text/x-python",
   "name": "python",
   "nbconvert_exporter": "python",
   "pygments_lexer": "ipython3",
   "version": "3.9.7"
  }
 },
 "nbformat": 4,
 "nbformat_minor": 5
}
